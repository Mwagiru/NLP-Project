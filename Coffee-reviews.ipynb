{
 "cells": [
  {
   "cell_type": "code",
   "execution_count": 1,
   "id": "bf0df933",
   "metadata": {},
   "outputs": [
    {
     "name": "stdout",
     "output_type": "stream",
     "text": [
      "Requirement already satisfied: wordcloud in c:\\users\\admin\\anaconda3\\lib\\site-packages (1.8.2.2)\n",
      "Requirement already satisfied: numpy>=1.6.1 in c:\\users\\admin\\anaconda3\\lib\\site-packages (from wordcloud) (1.23.5)\n",
      "Requirement already satisfied: pillow in c:\\users\\admin\\anaconda3\\lib\\site-packages (from wordcloud) (9.2.0)\n",
      "Requirement already satisfied: matplotlib in c:\\users\\admin\\anaconda3\\lib\\site-packages (from wordcloud) (3.5.2)\n",
      "Requirement already satisfied: pyparsing>=2.2.1 in c:\\users\\admin\\anaconda3\\lib\\site-packages (from matplotlib->wordcloud) (3.0.9)\n",
      "Requirement already satisfied: python-dateutil>=2.7 in c:\\users\\admin\\anaconda3\\lib\\site-packages (from matplotlib->wordcloud) (2.8.2)\n",
      "Requirement already satisfied: packaging>=20.0 in c:\\users\\admin\\anaconda3\\lib\\site-packages (from matplotlib->wordcloud) (21.3)\n",
      "Requirement already satisfied: kiwisolver>=1.0.1 in c:\\users\\admin\\anaconda3\\lib\\site-packages (from matplotlib->wordcloud) (1.4.2)\n",
      "Requirement already satisfied: fonttools>=4.22.0 in c:\\users\\admin\\anaconda3\\lib\\site-packages (from matplotlib->wordcloud) (4.25.0)\n",
      "Requirement already satisfied: cycler>=0.10 in c:\\users\\admin\\anaconda3\\lib\\site-packages (from matplotlib->wordcloud) (0.11.0)\n",
      "Requirement already satisfied: six>=1.5 in c:\\users\\admin\\anaconda3\\lib\\site-packages (from python-dateutil>=2.7->matplotlib->wordcloud) (1.16.0)\n",
      "Requirement already satisfied: nltk in c:\\users\\admin\\anaconda3\\lib\\site-packages (3.7)\n",
      "Requirement already satisfied: click in c:\\users\\admin\\anaconda3\\lib\\site-packages (from nltk) (8.0.4)\n",
      "Requirement already satisfied: joblib in c:\\users\\admin\\anaconda3\\lib\\site-packages (from nltk) (1.2.0)\n",
      "Requirement already satisfied: tqdm in c:\\users\\admin\\anaconda3\\lib\\site-packages (from nltk) (4.64.1)\n",
      "Requirement already satisfied: regex>=2021.8.3 in c:\\users\\admin\\anaconda3\\lib\\site-packages (from nltk) (2022.7.9)\n",
      "Requirement already satisfied: colorama in c:\\users\\admin\\anaconda3\\lib\\site-packages (from click->nltk) (0.4.5)\n"
     ]
    },
    {
     "name": "stderr",
     "output_type": "stream",
     "text": [
      "[nltk_data] Downloading package punkt to\n",
      "[nltk_data]     C:\\Users\\admin\\AppData\\Roaming\\nltk_data...\n",
      "[nltk_data]   Package punkt is already up-to-date!\n",
      "[nltk_data] Downloading package stopwords to\n",
      "[nltk_data]     C:\\Users\\admin\\AppData\\Roaming\\nltk_data...\n",
      "[nltk_data]   Package stopwords is already up-to-date!\n"
     ]
    },
    {
     "data": {
      "text/plain": [
       "True"
      ]
     },
     "execution_count": 1,
     "metadata": {},
     "output_type": "execute_result"
    }
   ],
   "source": [
    "import pandas as pd\n",
    "import os\n",
    "import numpy as np\n",
    "import seaborn as sns\n",
    "import matplotlib.pyplot as plt\n",
    "!pip install wordcloud\n",
    "!pip install nltk\n",
    "import nltk\n",
    "nltk.download('punkt')\n",
    "nltk.download('stopwords')"
   ]
  },
  {
   "cell_type": "code",
   "execution_count": 2,
   "id": "6be96754",
   "metadata": {
    "scrolled": true
   },
   "outputs": [
    {
     "data": {
      "text/html": [
       "<div>\n",
       "<style scoped>\n",
       "    .dataframe tbody tr th:only-of-type {\n",
       "        vertical-align: middle;\n",
       "    }\n",
       "\n",
       "    .dataframe tbody tr th {\n",
       "        vertical-align: top;\n",
       "    }\n",
       "\n",
       "    .dataframe thead th {\n",
       "        text-align: right;\n",
       "    }\n",
       "</style>\n",
       "<table border=\"1\" class=\"dataframe\">\n",
       "  <thead>\n",
       "    <tr style=\"text-align: right;\">\n",
       "      <th></th>\n",
       "      <th>rating</th>\n",
       "      <th>review</th>\n",
       "    </tr>\n",
       "  </thead>\n",
       "  <tbody>\n",
       "    <tr>\n",
       "      <th>0</th>\n",
       "      <td>5</td>\n",
       "      <td>Wenn ich Bohnenkaffee trinke (auf Arbeit trink...</td>\n",
       "    </tr>\n",
       "    <tr>\n",
       "      <th>1</th>\n",
       "      <td>5</td>\n",
       "      <td>Für mich ist dieser Kaffee ideal. Die Grundvor...</td>\n",
       "    </tr>\n",
       "    <tr>\n",
       "      <th>2</th>\n",
       "      <td>5</td>\n",
       "      <td>Ich persönlich bin insbesondere von dem Geschm...</td>\n",
       "    </tr>\n",
       "    <tr>\n",
       "      <th>3</th>\n",
       "      <td>5</td>\n",
       "      <td>ganz abgesehen vom geschmack legt gepa inzwisc...</td>\n",
       "    </tr>\n",
       "    <tr>\n",
       "      <th>4</th>\n",
       "      <td>5</td>\n",
       "      <td>Seit Jahren kaufe ich am liebsten den Kaffee u...</td>\n",
       "    </tr>\n",
       "    <tr>\n",
       "      <th>...</th>\n",
       "      <td>...</td>\n",
       "      <td>...</td>\n",
       "    </tr>\n",
       "    <tr>\n",
       "      <th>459</th>\n",
       "      <td>5</td>\n",
       "      <td>Ich bevorzuge Gepa Kaffee, da er FairTrade pro...</td>\n",
       "    </tr>\n",
       "    <tr>\n",
       "      <th>460</th>\n",
       "      <td>5</td>\n",
       "      <td>Kaffee genießen mit gutem Gefühl: besonders zu...</td>\n",
       "    </tr>\n",
       "    <tr>\n",
       "      <th>461</th>\n",
       "      <td>5</td>\n",
       "      <td>Ich habe einen magenfreundlichen, aber koffein...</td>\n",
       "    </tr>\n",
       "    <tr>\n",
       "      <th>462</th>\n",
       "      <td>5</td>\n",
       "      <td>Bei Gepa unterstützt man bei jedem Kauf ein we...</td>\n",
       "    </tr>\n",
       "    <tr>\n",
       "      <th>463</th>\n",
       "      <td>5</td>\n",
       "      <td>Schon lange gehört Kaffee von Gepa zum festen ...</td>\n",
       "    </tr>\n",
       "  </tbody>\n",
       "</table>\n",
       "<p>464 rows × 2 columns</p>\n",
       "</div>"
      ],
      "text/plain": [
       "     rating                                             review\n",
       "0         5  Wenn ich Bohnenkaffee trinke (auf Arbeit trink...\n",
       "1         5  Für mich ist dieser Kaffee ideal. Die Grundvor...\n",
       "2         5  Ich persönlich bin insbesondere von dem Geschm...\n",
       "3         5  ganz abgesehen vom geschmack legt gepa inzwisc...\n",
       "4         5  Seit Jahren kaufe ich am liebsten den Kaffee u...\n",
       "..      ...                                                ...\n",
       "459       5  Ich bevorzuge Gepa Kaffee, da er FairTrade pro...\n",
       "460       5  Kaffee genießen mit gutem Gefühl: besonders zu...\n",
       "461       5  Ich habe einen magenfreundlichen, aber koffein...\n",
       "462       5  Bei Gepa unterstützt man bei jedem Kauf ein we...\n",
       "463       5  Schon lange gehört Kaffee von Gepa zum festen ...\n",
       "\n",
       "[464 rows x 2 columns]"
      ]
     },
     "execution_count": 2,
     "metadata": {},
     "output_type": "execute_result"
    }
   ],
   "source": [
    "#Load the Data\n",
    "kaffee_reviews = pd.read_csv('kaffee_reviews.csv', usecols=['rating', 'review'])\n",
    "kaffee_reviews"
   ]
  },
  {
   "cell_type": "code",
   "execution_count": 3,
   "id": "4955a4df",
   "metadata": {},
   "outputs": [
    {
     "data": {
      "text/html": [
       "<div>\n",
       "<style scoped>\n",
       "    .dataframe tbody tr th:only-of-type {\n",
       "        vertical-align: middle;\n",
       "    }\n",
       "\n",
       "    .dataframe tbody tr th {\n",
       "        vertical-align: top;\n",
       "    }\n",
       "\n",
       "    .dataframe thead th {\n",
       "        text-align: right;\n",
       "    }\n",
       "</style>\n",
       "<table border=\"1\" class=\"dataframe\">\n",
       "  <thead>\n",
       "    <tr style=\"text-align: right;\">\n",
       "      <th></th>\n",
       "      <th>rating</th>\n",
       "      <th>review</th>\n",
       "    </tr>\n",
       "  </thead>\n",
       "  <tbody>\n",
       "    <tr>\n",
       "      <th>454</th>\n",
       "      <td>5</td>\n",
       "      <td>Ich kaufe ihn im hiesigen WELTLADEN und bin be...</td>\n",
       "    </tr>\n",
       "    <tr>\n",
       "      <th>455</th>\n",
       "      <td>5</td>\n",
       "      <td>Ich habe bis jetzt noch nicht viele Fair Trade...</td>\n",
       "    </tr>\n",
       "    <tr>\n",
       "      <th>456</th>\n",
       "      <td>5</td>\n",
       "      <td>Mein Standardkaffee für jeden Tag ist der Cafe...</td>\n",
       "    </tr>\n",
       "    <tr>\n",
       "      <th>457</th>\n",
       "      <td>5</td>\n",
       "      <td>super Kaffee. Himalaya ist unsere Lieblingssor...</td>\n",
       "    </tr>\n",
       "    <tr>\n",
       "      <th>458</th>\n",
       "      <td>5</td>\n",
       "      <td>Na klar, GEPA bietet unter seinem Siegel Produ...</td>\n",
       "    </tr>\n",
       "    <tr>\n",
       "      <th>459</th>\n",
       "      <td>5</td>\n",
       "      <td>Ich bevorzuge Gepa Kaffee, da er FairTrade pro...</td>\n",
       "    </tr>\n",
       "    <tr>\n",
       "      <th>460</th>\n",
       "      <td>5</td>\n",
       "      <td>Kaffee genießen mit gutem Gefühl: besonders zu...</td>\n",
       "    </tr>\n",
       "    <tr>\n",
       "      <th>461</th>\n",
       "      <td>5</td>\n",
       "      <td>Ich habe einen magenfreundlichen, aber koffein...</td>\n",
       "    </tr>\n",
       "    <tr>\n",
       "      <th>462</th>\n",
       "      <td>5</td>\n",
       "      <td>Bei Gepa unterstützt man bei jedem Kauf ein we...</td>\n",
       "    </tr>\n",
       "    <tr>\n",
       "      <th>463</th>\n",
       "      <td>5</td>\n",
       "      <td>Schon lange gehört Kaffee von Gepa zum festen ...</td>\n",
       "    </tr>\n",
       "  </tbody>\n",
       "</table>\n",
       "</div>"
      ],
      "text/plain": [
       "     rating                                             review\n",
       "454       5  Ich kaufe ihn im hiesigen WELTLADEN und bin be...\n",
       "455       5  Ich habe bis jetzt noch nicht viele Fair Trade...\n",
       "456       5  Mein Standardkaffee für jeden Tag ist der Cafe...\n",
       "457       5  super Kaffee. Himalaya ist unsere Lieblingssor...\n",
       "458       5  Na klar, GEPA bietet unter seinem Siegel Produ...\n",
       "459       5  Ich bevorzuge Gepa Kaffee, da er FairTrade pro...\n",
       "460       5  Kaffee genießen mit gutem Gefühl: besonders zu...\n",
       "461       5  Ich habe einen magenfreundlichen, aber koffein...\n",
       "462       5  Bei Gepa unterstützt man bei jedem Kauf ein we...\n",
       "463       5  Schon lange gehört Kaffee von Gepa zum festen ..."
      ]
     },
     "execution_count": 3,
     "metadata": {},
     "output_type": "execute_result"
    }
   ],
   "source": [
    "#display the last 50 reviews\n",
    "kaffee_reviews.tail(10)"
   ]
  },
  {
   "cell_type": "code",
   "execution_count": 4,
   "id": "16487230",
   "metadata": {},
   "outputs": [],
   "source": [
    "import csv"
   ]
  },
  {
   "cell_type": "code",
   "execution_count": 5,
   "id": "04675b45",
   "metadata": {},
   "outputs": [
    {
     "data": {
      "text/html": [
       "<div>\n",
       "<style scoped>\n",
       "    .dataframe tbody tr th:only-of-type {\n",
       "        vertical-align: middle;\n",
       "    }\n",
       "\n",
       "    .dataframe tbody tr th {\n",
       "        vertical-align: top;\n",
       "    }\n",
       "\n",
       "    .dataframe thead th {\n",
       "        text-align: right;\n",
       "    }\n",
       "</style>\n",
       "<table border=\"1\" class=\"dataframe\">\n",
       "  <thead>\n",
       "    <tr style=\"text-align: right;\">\n",
       "      <th></th>\n",
       "      <th>rating</th>\n",
       "      <th>review</th>\n",
       "      <th>sentiment</th>\n",
       "    </tr>\n",
       "  </thead>\n",
       "  <tbody>\n",
       "    <tr>\n",
       "      <th>0</th>\n",
       "      <td>5</td>\n",
       "      <td>Wenn ich Bohnenkaffee trinke (auf Arbeit trink...</td>\n",
       "      <td>positive</td>\n",
       "    </tr>\n",
       "    <tr>\n",
       "      <th>1</th>\n",
       "      <td>5</td>\n",
       "      <td>Für mich ist dieser Kaffee ideal. Die Grundvor...</td>\n",
       "      <td>positive</td>\n",
       "    </tr>\n",
       "    <tr>\n",
       "      <th>2</th>\n",
       "      <td>5</td>\n",
       "      <td>Ich persönlich bin insbesondere von dem Geschm...</td>\n",
       "      <td>positive</td>\n",
       "    </tr>\n",
       "    <tr>\n",
       "      <th>3</th>\n",
       "      <td>5</td>\n",
       "      <td>ganz abgesehen vom geschmack legt gepa inzwisc...</td>\n",
       "      <td>positive</td>\n",
       "    </tr>\n",
       "    <tr>\n",
       "      <th>4</th>\n",
       "      <td>5</td>\n",
       "      <td>Seit Jahren kaufe ich am liebsten den Kaffee u...</td>\n",
       "      <td>positive</td>\n",
       "    </tr>\n",
       "    <tr>\n",
       "      <th>...</th>\n",
       "      <td>...</td>\n",
       "      <td>...</td>\n",
       "      <td>...</td>\n",
       "    </tr>\n",
       "    <tr>\n",
       "      <th>459</th>\n",
       "      <td>5</td>\n",
       "      <td>Ich bevorzuge Gepa Kaffee, da er FairTrade pro...</td>\n",
       "      <td>positive</td>\n",
       "    </tr>\n",
       "    <tr>\n",
       "      <th>460</th>\n",
       "      <td>5</td>\n",
       "      <td>Kaffee genießen mit gutem Gefühl: besonders zu...</td>\n",
       "      <td>positive</td>\n",
       "    </tr>\n",
       "    <tr>\n",
       "      <th>461</th>\n",
       "      <td>5</td>\n",
       "      <td>Ich habe einen magenfreundlichen, aber koffein...</td>\n",
       "      <td>positive</td>\n",
       "    </tr>\n",
       "    <tr>\n",
       "      <th>462</th>\n",
       "      <td>5</td>\n",
       "      <td>Bei Gepa unterstützt man bei jedem Kauf ein we...</td>\n",
       "      <td>positive</td>\n",
       "    </tr>\n",
       "    <tr>\n",
       "      <th>463</th>\n",
       "      <td>5</td>\n",
       "      <td>Schon lange gehört Kaffee von Gepa zum festen ...</td>\n",
       "      <td>positive</td>\n",
       "    </tr>\n",
       "  </tbody>\n",
       "</table>\n",
       "<p>464 rows × 3 columns</p>\n",
       "</div>"
      ],
      "text/plain": [
       "     rating                                             review sentiment\n",
       "0         5  Wenn ich Bohnenkaffee trinke (auf Arbeit trink...  positive\n",
       "1         5  Für mich ist dieser Kaffee ideal. Die Grundvor...  positive\n",
       "2         5  Ich persönlich bin insbesondere von dem Geschm...  positive\n",
       "3         5  ganz abgesehen vom geschmack legt gepa inzwisc...  positive\n",
       "4         5  Seit Jahren kaufe ich am liebsten den Kaffee u...  positive\n",
       "..      ...                                                ...       ...\n",
       "459       5  Ich bevorzuge Gepa Kaffee, da er FairTrade pro...  positive\n",
       "460       5  Kaffee genießen mit gutem Gefühl: besonders zu...  positive\n",
       "461       5  Ich habe einen magenfreundlichen, aber koffein...  positive\n",
       "462       5  Bei Gepa unterstützt man bei jedem Kauf ein we...  positive\n",
       "463       5  Schon lange gehört Kaffee von Gepa zum festen ...  positive\n",
       "\n",
       "[464 rows x 3 columns]"
      ]
     },
     "execution_count": 5,
     "metadata": {},
     "output_type": "execute_result"
    }
   ],
   "source": [
    "def convertratings(csv_file, rating_column):\n",
    "    \n",
    "    # Convert ratings to sentiments\n",
    "    kaffee_reviews['sentiment'] = kaffee_reviews[rating_column].apply(lambda x: 'positive' if x > 4 else 'negative' if x <= 2 else 'neutral')\n",
    "    \n",
    "    # Save the updated DataFrame to a new CSV file\n",
    "    kaffee_reviews.to_csv('updated_' + csv_file, index=False)\n",
    "    \n",
    "    return kaffee_reviews\n",
    "\n",
    "convertratings('Kaffee_reviews.csv', 'rating')\n"
   ]
  },
  {
   "cell_type": "code",
   "execution_count": 37,
   "id": "489e0006",
   "metadata": {
    "scrolled": true
   },
   "outputs": [
    {
     "data": {
      "text/html": [
       "<div>\n",
       "<style scoped>\n",
       "    .dataframe tbody tr th:only-of-type {\n",
       "        vertical-align: middle;\n",
       "    }\n",
       "\n",
       "    .dataframe tbody tr th {\n",
       "        vertical-align: top;\n",
       "    }\n",
       "\n",
       "    .dataframe thead th {\n",
       "        text-align: right;\n",
       "    }\n",
       "</style>\n",
       "<table border=\"1\" class=\"dataframe\">\n",
       "  <thead>\n",
       "    <tr style=\"text-align: right;\">\n",
       "      <th></th>\n",
       "      <th>rating</th>\n",
       "      <th>review</th>\n",
       "      <th>sentiment</th>\n",
       "      <th>length</th>\n",
       "    </tr>\n",
       "  </thead>\n",
       "  <tbody>\n",
       "    <tr>\n",
       "      <th>0</th>\n",
       "      <td>5</td>\n",
       "      <td>Wenn ich Bohnenkaffee trinke (auf Arbeit trink...</td>\n",
       "      <td>positive</td>\n",
       "      <td>758</td>\n",
       "    </tr>\n",
       "    <tr>\n",
       "      <th>1</th>\n",
       "      <td>5</td>\n",
       "      <td>Für mich ist dieser Kaffee ideal. Die Grundvor...</td>\n",
       "      <td>positive</td>\n",
       "      <td>522</td>\n",
       "    </tr>\n",
       "    <tr>\n",
       "      <th>2</th>\n",
       "      <td>5</td>\n",
       "      <td>Ich persönlich bin insbesondere von dem Geschm...</td>\n",
       "      <td>positive</td>\n",
       "      <td>472</td>\n",
       "    </tr>\n",
       "    <tr>\n",
       "      <th>3</th>\n",
       "      <td>5</td>\n",
       "      <td>ganz abgesehen vom geschmack legt gepa inzwisc...</td>\n",
       "      <td>positive</td>\n",
       "      <td>344</td>\n",
       "    </tr>\n",
       "    <tr>\n",
       "      <th>4</th>\n",
       "      <td>5</td>\n",
       "      <td>Seit Jahren kaufe ich am liebsten den Kaffee u...</td>\n",
       "      <td>positive</td>\n",
       "      <td>308</td>\n",
       "    </tr>\n",
       "    <tr>\n",
       "      <th>...</th>\n",
       "      <td>...</td>\n",
       "      <td>...</td>\n",
       "      <td>...</td>\n",
       "      <td>...</td>\n",
       "    </tr>\n",
       "    <tr>\n",
       "      <th>459</th>\n",
       "      <td>5</td>\n",
       "      <td>Ich bevorzuge Gepa Kaffee, da er FairTrade pro...</td>\n",
       "      <td>positive</td>\n",
       "      <td>326</td>\n",
       "    </tr>\n",
       "    <tr>\n",
       "      <th>460</th>\n",
       "      <td>5</td>\n",
       "      <td>Kaffee genießen mit gutem Gefühl: besonders zu...</td>\n",
       "      <td>positive</td>\n",
       "      <td>273</td>\n",
       "    </tr>\n",
       "    <tr>\n",
       "      <th>461</th>\n",
       "      <td>5</td>\n",
       "      <td>Ich habe einen magenfreundlichen, aber koffein...</td>\n",
       "      <td>positive</td>\n",
       "      <td>174</td>\n",
       "    </tr>\n",
       "    <tr>\n",
       "      <th>462</th>\n",
       "      <td>5</td>\n",
       "      <td>Bei Gepa unterstützt man bei jedem Kauf ein we...</td>\n",
       "      <td>positive</td>\n",
       "      <td>114</td>\n",
       "    </tr>\n",
       "    <tr>\n",
       "      <th>463</th>\n",
       "      <td>5</td>\n",
       "      <td>Schon lange gehört Kaffee von Gepa zum festen ...</td>\n",
       "      <td>positive</td>\n",
       "      <td>278</td>\n",
       "    </tr>\n",
       "  </tbody>\n",
       "</table>\n",
       "<p>346 rows × 4 columns</p>\n",
       "</div>"
      ],
      "text/plain": [
       "     rating                                             review sentiment  \\\n",
       "0         5  Wenn ich Bohnenkaffee trinke (auf Arbeit trink...  positive   \n",
       "1         5  Für mich ist dieser Kaffee ideal. Die Grundvor...  positive   \n",
       "2         5  Ich persönlich bin insbesondere von dem Geschm...  positive   \n",
       "3         5  ganz abgesehen vom geschmack legt gepa inzwisc...  positive   \n",
       "4         5  Seit Jahren kaufe ich am liebsten den Kaffee u...  positive   \n",
       "..      ...                                                ...       ...   \n",
       "459       5  Ich bevorzuge Gepa Kaffee, da er FairTrade pro...  positive   \n",
       "460       5  Kaffee genießen mit gutem Gefühl: besonders zu...  positive   \n",
       "461       5  Ich habe einen magenfreundlichen, aber koffein...  positive   \n",
       "462       5  Bei Gepa unterstützt man bei jedem Kauf ein we...  positive   \n",
       "463       5  Schon lange gehört Kaffee von Gepa zum festen ...  positive   \n",
       "\n",
       "     length  \n",
       "0       758  \n",
       "1       522  \n",
       "2       472  \n",
       "3       344  \n",
       "4       308  \n",
       "..      ...  \n",
       "459     326  \n",
       "460     273  \n",
       "461     174  \n",
       "462     114  \n",
       "463     278  \n",
       "\n",
       "[346 rows x 4 columns]"
      ]
     },
     "execution_count": 37,
     "metadata": {},
     "output_type": "execute_result"
    }
   ],
   "source": [
    "#showing positive reviews\n",
    "positive_reviews = kaffee_reviews[kaffee_reviews['sentiment'] == 'positive']\n",
    "positive_reviews"
   ]
  },
  {
   "cell_type": "code",
   "execution_count": 38,
   "id": "3b04a997",
   "metadata": {},
   "outputs": [
    {
     "data": {
      "text/plain": [
       "346"
      ]
     },
     "execution_count": 38,
     "metadata": {},
     "output_type": "execute_result"
    }
   ],
   "source": [
    "#convert to list format\n",
    "kaffee_reviews_to_list = positive_reviews['review'].tolist()\n",
    "len(kaffee_reviews_to_list)\n"
   ]
  },
  {
   "cell_type": "code",
   "execution_count": 39,
   "id": "c0bf6e4b",
   "metadata": {
    "scrolled": true
   },
   "outputs": [
    {
     "data": {
      "text/plain": [
       "'Wenn ich Bohnenkaffee trinke (auf Arbeit trinke ich wegen der Kapselmaschine nur Kaffee aus Granulat), dann in jedem Fall GEPA-Kaffee. Schon in Studium und mit Bafög war es mit der höhere Preis (verglichen mit den herkömmlichen Kaffees) immer Wert, GEPA zu kaufen. Zum einen, weil ich ihn mit gutem Gewissen trinken kann, da er aus fairem Handel stammt und seine Herstellung nicht auf Ausbeutung basiert. Zum anderen, weil er auch bei Blindverkostungen immer deutlich besser schmeckt, als andere Kaffeesorten. Am liebsten trinke ich stärkeren Kaffee (z.B. „Kolumbien Pur“), aber auch die milderen Sorten hatte ich schon und war mit dem Geschmack sehr zufrieden. Mein Partner kauft seit wir uns kennen auch nur noch GEPA-Kaffees, da ich ihn überzeugen konnte.Für mich ist dieser Kaffee ideal. Die Grundvoraussetzungen Bio und Fair trade sind bei GEPA immer gegeben. Aber hier überzeugt auch das milde feine Aroma mit diesem besonderen Kick der Kakaonote. Der Guatemala Pur ist sehr bekömmlich. Gerade Personen mit einem empfindlichen, leicht übersäuerten Magen können diesen Kaffee bedenkenlos konsumieren. Wenn er dann noch schonend aufgegossen und nicht als Filterkaffee in der Maschine zubereitet wird, ist die Kaffeewelt (für mich) in Ordnung. Daher 5 Sterne für diesen Kaffee.Ich persönlich bin insbesondere von dem Geschmack der Gepa Kaffee-Sorten angetan. Man schmeckt die ausgezeichnete Qualität. Die Kaffeesorten halten, was sie versprechen und sind äußerst rund im Geschmack. Als Nebenstudiums-Barista habe ich ja schon viele Kaffeemarken und Sorten durchprobiert, konventionell, fair oder Bio. Und GEPA-Kaffee ist meiner Meinung nach eine große Nummer, kann ich jedem nur empfehlen!!! Für diese Qualität ist auch der Preis absolut in Ordnung.ganz abgesehen vom geschmack legt gepa inzwischen das fair trade label ab,weil dr prozentsatz der fair gehandelten inhaltsstoffe ihnen zu niedig ist.sehr löblich finde ich.das ist im zeitalter der verwässerten labels und ansprüche sehr zu begrüssen.mir persönlich hat der gepa kaffee vor allem der espresso bohne immer besonders gut geschmeckt.Seit Jahren kaufe ich am liebsten den Kaffee und Espresso von der Gepa. Der Geschmack ist gut und die Projekte, die damit unterstützt werden, sorgen nicht nur für einen fairen Lohn der Kaffeebauern, sondern verbessern auch noch nachhaltig ihre Lebensbedingungen. Besser kann kaum in den Tag gestartet werden!Ca. 10 Jahre lang war für mich dieser – rechts – Espresso der absolute FAVORIT… dabei trank ich bis Mitte 2004 überhaupt kein Kaffee. Dann aber mit der BIALETTI und dem Gepa war es wunderbar! Mild, rund, perfekt. Die beiden links kenne ich nicht… bis ich den Mount Hagen ESPRESSO entdeckte/entdecken musste, denn entweder hat sich mein Geschmack geändert oder der vom Gepa Espresso 😉Heute habe ich meine Kaffeegewohnheiten etwas verändert. Ich habe mir Filtertüten, einen Filter-Tassen-Aufsatz besorgt und stand dann vor dem Regal mit gefühlt 80 verschiedenen Kaffeesorten. Ich habe mit für GEPA-Kaffee entschieden. Habe ihn frisch aufgebrüht und habe mich in den Geschmack verliebt. Der Kaffee duftet und schmeckt einfach herrlich. Ich bin absolut begeistert und durch den Kauf erfülle ich einen guten Zweck. Der Preis hat mich kein wenig abgeschreckt, da ich weiß wofür ich das Geld bezahle.Mir schmeckt der GEPA Espresso super. Ich trinke ihn bewusst und mit Genuss. Mit der Bialetti auf dem Herd oder auch in einer „Runterdrück- Kanne“, beides im ist Ergebnis super. Und wenn die Kaffee- Bauern auch noch etwas davon haben……Daher 5 Sterne für diesen Kaffee! Dieser Gepa Kaffee ist sehr bekömmlich und schmeckt sehr lecker. Nach mehreren Vergleichen mit anderen milden Kaffeesorten von unterschiedlichen Hers tellern kam ich zu dem Entschluss, dass ich diesen vor allen bevorzuge. Preislich liegt dieser Kaffee eher an der oberen Grenze was aufgrund der fairen Herkunft gerechtfertigt ist. Sehr empfehlenswert für jeden der gerne säurearmen bzw. leichten Kaffee trinkt. Aufgrund langfristiger Medikamenteneinnahme wurde meine Magenschleimhaut stark angegriffen. Mein infolgedessen überempfindlicher Magen reagierte auf einmal permanent extrem mit heftigen krampfartigen Schmerzen nach dem Konsum bestimmter Lebensmittel, insbesondere schon nach dem Trinken von nur einer halben Tasse Kaffee. Von Genuss konnte keine Rede mehr sein. Nachdem ich viele Marken ausprobiert hatte und es jedesmal wieder bereuen musste, habe ich für lange Zeit ganz darauf verzichtet. Aber als ich vor kurzem verschiedene Bewertungen und Empfehlungen gelesen hatte, habe ich erstmals den GEPA Bio Cafe Esperanza (mild-aromatisch) getestet. Ich war skeptisch, da ich mir nicht mehr vorstellen konnte, dass es für mich jemals wieder Kaffeegenuss ohne Reue geben könnte. Aber das gilt hier sogar in doppeltem Sinne, also im Hinblick auf mein Wohlbefinden und bezüglich der Nachhaltigkeit. Dieser Kaffee hat mich in allen Punkten überzeugt. Fairer Handel, kontrolliert ökologischer Anbau, sehr gute Verträglichkeit und ein Aroma ganz nach meinem Geschmack. Was will man mehr! Ich bin jedenfalls vollends zufrieden und werde wahrscheinlich in Zukunft keine Experimente mehr wagen, sondern diesem Kaffee die Treue halten.Durch Zufall bin ich auf der Suche nach Bio-Kaffee für meinen Vollautomaten auf das Angebot von Café Chavalo (Jens Klein) gestoßen. Preislich steht das Produkt auf gleicher Stufe mit vergleichbaren Bio-Kaffees. Natürlich ist der Preis nicht mit Discounter Bio-Kaffees zu vergleichen. Hier ist man aber sicher, das zu bekommen, was man bestellt. Ich habe sowohl den Kaffee, als auch den Espresso probiert. Sowohl gemahlen in der normalen Kaffeemaschine, als auch als ganze Bohne im Automaten. Der etwas kräftigere Geschmack des Espresso gefällt mir noch etwas besser, im Bekanntenkreis ist es aber durchaus auch andersrum. Der Kaffee ist gut verträglich,voll und rund im Geschmack. Der Magen rebelliert nicht, so wie ich das schon bei anderen Kaffees erlebt habe. Der Versand erfolgt schnell und gut verpackt. Anders als beim Discounter wird auch das Bio Produkt nicht einfach im Plastik Beutel verpackt , sondern in speziellen Papiertüten. – Insgesamt ist mein Eindruck so positiv, dass ich bei diesem Produkt bleibe und es auch gerne als Geschenk mitbringe.Ein Leipziger Original und nur zu empfehlen. Mild und doch kräftig, dabei tatsächlich wunderbar sanft für den Magen. Ganz großes Plus: er flockt bei Getreidedrinks („Milch“ darf mensch ja nicht wirklich sagen) zero aus, ein Träumchen. Reismilch, Hafermilch, Dinkelmilch, Mandelmilch, notfalls Soyamilch – er harmoniert mit allen. Herrrlich!Dieser leckere Espresso ist ein Genuss. Und da er unter wirklich tollen Bedingungen angebaut und verarbeitet war er schon lange unser Favorit. Seit er nun auch noch klimafreundlich mit dem Segelboot seinen Weg aus Nicaragua zu uns findet…gibt es kaum eine Alternative für uns 🙂Besonders gut finde ich, dass ausschließlich Kleinbäuerinnen und Kleinbauern unterstützt werden. Oft ist der Kaffee nicht nur Bio sondern auch Naturland Fair zertifiziert. Von unserem Frühstückstisch nicht mehr wegzudenken. …Cafe Sidamo von WeltPartner – ich trinke ihn von Hand aufgebrüht als Filterkaffee. Ein äußerst leckerer, kräftiger Kaffee mit wenig Säure, kann ich sehr empfehlen.Ich bin großer Fan des WeltPartner Kaffees. Meine Lieblingssorte für Capuccino: Espresso 3 Länder (Bio Arabica Mischung aus Nicaragua, Peru und Kolumbien). Nicht nur fair gehandelt, sondern auch ein faires Preis-Leistungsverhältnis für mich als Kunde. Die neue Verpackung ist hübscher und umweltfreundlicher.Seit gut einem Jahr trinke ich Kaffee von WeltPartner. Mir gefällt, die Transparenz und das ehrliche Engagement für Kleinbauern überall auf der Welt. Geschmacklich auch top. Kann ich gerne weiterempfehlen! ;Mit dem Kauf unserer neuen Espressomaschine haben wir verschiedene Kaffes ausprobiert – und haben so unserer Favoriten. der Gustoni Espresso (Ganze Bohne) gehört auf alle Fälle dazu! Den gibt es auch bei uns im Bioladen für einen guten Preis und wir müssen nicht immer im Internet bestellen – das ist für uns ein echtes +.wir haben so einige fairtrade-bio-Kaffeesorten ausprobiert und diese Bohnen waren die einzigen, die all unsere Kriterien erfüllt haben. Volles Aroma, kein bitterer Nachgeschmack, nicht zu luschig mild. Feine Crema und er schmeckt genial als Espresso mit einem kleinen Spritzer Agavendicksaft (wer nimmt denn noch Zucker?!). Der Preis stimmt, EDEKA scheint sich hier nicht seinen Namen bezahlen zu lassen! Habe immer eine Packung in Reserve. 🙂und geschmackvoll. Ein wunderbarer Kaffeegenuss für faires Geld. Allein der Duft beim Mahlen der Bohnen ist super. Da bekommt man direkt lust auf Kaffee. Dass es ein Fair Trade Produkt ist, macht das ganze perfekt. Die Edeka Eigenmarke hat damit für mich einige große Hersteller bei weitem übertroffenSeit wir einen Kaffeevollautomaten haben, bin ich auf der Suche nach guten günstigen Kaffeesorten. Der Edeka Bio Caffé Crema hat ein schönen Duft, der schon beim Öffnen entgegenströmt. Beim Espresso bildet sich eine perfekte Crema und auch der Cappuccino gefällt mir sehr gut. Man merkt, das es 100% Arabica Bohnen sind, die ein sehr gutes Aroma haben. Das alles zu einem günstigen Preis, in Bio Qualität und fair gehandelt, was will man mehr?der kaffe ist sehr rund im aroma, noch besser finden wir mittlerweile den espresso, den wir im vollautomaten haben – dort dienst er als espresso UND gleichzeitig als kaffee. genial! unser bioladen nimmt altomayao auch für den café-bereich, da er so gut amkommt.Der Kaffee ist leider- sage ich gleich vorneweg- sehr schwer zu kriegen. Ich bin auch nur durch Zufall in Österreich dran geraten und hab ihn aber in Deutschland/Bayern noch nie wo gesehen. Ich musste den Kaffee sofort ausprobieren, da ich überzeugte zotter-Schokolade-Käuferin bin. Der Preis ist eher im oberen Drittel bei ca. 8,50 für 250g. Kann natürlich sein, dass mich auch das hübsche, ansprechende Design geblendet hat, aber für ne Mischung (sonst trinke ich nur reinen Arabica) war er ausgesprochen lecker. Die Bohnen haben eine schöne Farbe (keine hellgelben hatten sich eingeschmuggelt) und ließen sich gut mahlen (sind also sehr gut geröstet). Ich bin zufrieden, würde und könnte, es mir aber trotzdem nicht so oft leisten, da mein gewohnter fairtrade, self roasted, Kaffee ca. 2 Euro günstiger ist. Ich würde gerne 4,5 Sterne vergeben, wegen dem Preis und dem schweren Zugang.Dieser Getreidekaffee ist ein wunderbarer Kaffeeersatz, da er sehr gut duftet und schmeckt (für mich als eingefleischter Kaffeegenießer unerläßlich) und mit dem kleinen Anteil Koffein nicht gleich so ganz heftig bei der Umgewöhnung. Ich bin begeistert und trinke ihn immer öfter und habe dazu noch das gute Gefühl ohne Schadstoffe zu genießen und etwas für meine Gesundheit zu tun. Für dieses Produkt gibt es 5 Sterne, keine Abstriche!!Vom nicht Kaffee Trinker zum Kaffee Liebhaber dank dieser Mischung. Für mich der einzig wahre Kaffee, geschmacklich und gedanklich. Fairtrade und selbst geröstet in der Steiermark. Kann auch online bestellt werden was super praktisch ist. Probieren und verlieben …Ein wunderbarer Kaffee. Qualität, Mischung und Röstung machen diesen Kaffee zu einem runden, kräftigen Genuss und 100% Bio und Fairtraide, da leiste ich mir den Preis. der Kaffee ist noch immer etwas schwer zu bekommen (wenn man noch in Geschäften einkauft und nicht online) was aber nicht so schlimm ist, so ist das bei Qualität und Genuss, nicht immer aber dafür mit Freude. Ich gebe 5 Sterne, weil er mir „kostbar“ ist. P.s. Die Kaffeeschokoladen sind der absolute Hit 😉Wir haben vor ein paar Wochen den Gourmet-Kaffee (gemahlen, mild &amp; bekömmlich, 100% Arabica) von Lebensbaum ausprobiert – und waren ziemlich enttäuscht. Für den Preis – knapp 8 Euro für ein Pfund – hatten wir uns mehr erhofft. Natürlich ist das Geschmackssache, hängt von der Zubereitungsart, dem Wasser usw. ab. Aber im Vergleich zum Bio-Kaffee, den wir sonst haben (J.J. Darboven), ließ das Aroma sehr zu wünschen übrig, auch bei höherer Dosierung. Es hat uns einfach nicht überzeugt, auch wenn man ihn natürlich trotzdem trinken konnte und nicht wegschütten musste. Zwei Sterne gibt’s für den fairen Handel.Ich kaufe mir den fairen Bio Basic Kaffee regelmaßig alle zwei Wochen als ganze Bohne im Bio Basic Markt (1 kg für 15,99 €) und bin begeistert vom Geschmack dieses hervorragenden Kaffees. Ich kann ihn nur wärmstens empfehlen. Das bestätigen auch meine Kunden, denen ich eine Probe davon mitgegeben habe.super lecker! das gute an diesem Getreidekaffee ist das jeder selbst den Geschmack bestimmen kann (von mild bis leicht bitter) Kaffee vertrag ich nicht so gut und das ist eine sehr gute Alternative zu herkömmlichen Bohnenkaffee. wenn es mehr als 5 Sterne geben würde, dieser „Muckefuck“ hätte sie verdient! macht süchtig, und ist dabei auch noch eine gesunde alternativeDer Alnatura Getreidekaffee ist die perfekte Alternative zu Kaffee. Da ich persönlich keinen Kaffee vertrage und immer Magenschmerzen bekomme ist Getreidekaffee für mich das Beste. Er ist gut verträglich , ich kann damit auch eine Soja Latte oder Cappuccino machen. Den Stärkegrad bestimme ich selbst. Ich verfeinere meine Kuchen und Scgokoladenkreationen damit. Sogar eine Kaffee Creme lässt sich damit herstellen. Ich geb ihn nicht mehr her‚Gourmet Kaffee‘ ist unter den Lebensbaum Kaffees mein Favorit, da er ein ausgewogenes Aroma hat und sehr bekömmlich ist.Ich habe diesen Kaffee mal zu Besuch bei einer Freundin bekommen und war sofort hin und weg von ihrem Kaffee. Er schmeckt so vollmundig und natürlich, kräftig und einfach lecker. Natürlich hab ich mir den Kaffee dann auch gekauft und genieße ihn oft. Auch meinen Gästen biete ich ihn sehr gern an, die dann auch immer ganz begeistert sind. Ich kann diesen Kaffee einfach nur weiterempfehlen.Kein Tag kann besser anfangen als mit einer Tasse Gourmet – Kaffee von Lebensbaum. Ganz gleich ob Kaffee oder Espresso – die Produkte von Lebensbaum sind einfach das Beste. Bio und fair. Das Preis/leistungsverhältnis stimmt ebenfalls. Auf die Firma Lebensbaum kann man vertrauen.Gerade abends trinke ich gerne mal einen Getreidekaffee, weil er dann nicht mehr zu sehr puscht. Mir gefällt einfach der Geschmack und irgendwie habe ich das Gefühl, daß er mich stärkt.Eine große Auswahl an wirklich köstlichen Kaffees – man sieht und schmeckt, dass bei der Herstellung viel Liebe im Spel ist. Ach ein tolles Geschenk für Kaffeeliebhaber!Ein schonender, magenfreundlicher und reizarmer Kaffee, der alle Freunde von milden Sorten an sich bindet.Ich bin total begeistert, er ist echt magenfreundlich auch für Sensibelchen. Und sehr lecker.Sehr milder, vollmundiger Geschmackich kann den epressso nur über den grünen klee loben.er schmeckt sowohl aufgebrüht,in der cafetiere als auch aus der traditionellen italienischen alukanne hervorragend.ausserdem ist das hand in hand label höher zu bewerten als einige der anderen hier vorkommenden.Aber der beste Kaffee, den wir bisher getrunken haben.Kaffa dieser Wildkaffee aus Äthiopien ist im Geschmack und Aroma einfach wunderbar. Man bekommt schon gute Laune wenn die Bohnen in dem Kaffeeautomaten frisch gemahlen werden, anschließend der Kaffee überbrüht wird, einfach klasse. Jetzt ein Päuschen einlegen und alles wird gut.Espresso schmeckt sehr gut, aber nicht sehr kräftig. Zu viel Milch überdeckt den feinen Geschmack. Aufgrund des Preises eher was für besonder Anlässe.unbeschreiblicher geschmack, bestes Preis Leistungs Verhältnis und vor allem die aller beste Marke wenn es um Fair Trade geht! Die GEPA ist seit Jahren einer der wenigen Firmen, die hält was sie verspricht!! Nicht nur wenn es um die faire Bezahlung der Handelspartner geht, auch Langzeitverträge, Bildungspartnerschaften und besonders der faire Umgang und Bezahlung mit den eigenen Mitarbeitern in Deutschlad. Der wird nämlich leider oft vergessen…Jeder auf seine Art super, wobei ich den Getreidekaffee nicht kenne. Mahle immer vor dem Brühen frisch und alle sind begeistert. Jederzeit zu empfehlen……………………………………………………………………………………………………..was mir gefällt ist, dass dieser Kaffee nicht nur ausgezeichnet schmeckt sondern dass er auch fair gehandelt wird und vor allem dass keine 140 liter wasser pro tasse kaffee verschwendet werden wie bei jedem anderen kaffee (<a href=\"https://kaffawildkaffee.blogspot.com/2014/05/140-liter-wasser-fur-eine-tasse-kaffee.html\" target=\"_blank\" rel=\"nofollow\">http://kaffawildkaffee.blogspot.com/2014/05/140-liter-wasser-fur-eine-tasse-kaffee.html</a>). und wenn ich ihn mit anderen spezialitätenkaffees vergleiche ist er sogar richtig preis-wert.Nach langem Suchen hab ich ihn endlich bei uns im „Eine Welt Laden“ gefunden. Tolles Aroma, mild und aromatisch. Das Konzept und die besondere Form des Anbaus haben mich überzeugt. Da ist der Preis angemessen. Für Vieltrinker wohl etwas teuer. Für mich als Gelegenheitstrinkerin aber genau richtig! Super auch als Geschenk!Ich liebe den Espresso von GEPA. Der ist super lecker und ich kann mit einem guten Gewissen Kaffee trinken. Der Geschmack der verwendeten Bohnen (ich nehme den vorgemahlenen, da ich keine Kaffeemühle habe) ist super ausgewogen und insgesamt ist GEPA einfach ein total unterstützenswertes Projekt! Weiter so!GEPA Bolivien Bio Cafe Yungas hat ein tolles Aroma und ist dabei sehr bekömmlich. Es heißt, er hätte einen leicht schokoladigen Geschmack und ich finde, das stimmt. Ich war dieses Jahr in Jamaika und habe dort den angeblich zweitbesten Kaffee der Welt, Blue Mountain Coffee, vor Ort gekauft. Aber ich muss sagen, der GEPA Kaffee schmeckt mir viel besser und ist noch dazu wesentlich preisgünstiger.Ich werde keine anderen Kaffeepads mehr kaufe, als die von GEPA. Nach wie vor trinkt man ja nicht unbedingt mehr als drei oder vielleicht vier Tassen am Tag.und dafür finde ich, kann man auch wirklich mehr bezahlen. Es ist ja nicht so, dass ein Pad drei Euro kostet.Ich habe früher von konventionellem Kaffee auf Bio-Kaffee von GEPA gewechselt und fand ihn einfach toll im Geschmack, egal welche Sorte. Dann trank ich jahrelang gar keinen Kaffee. Begonnen, wieder Kaffee zu trinken, dann vor ein paar Monaten mit günstigem Bio-Kaffee verschiedener Firmen, eben wie es geerade kam. Vor ein paar Wochen habe ich mir dann endlich mal wieder GEPA-Kaffee gekauft (coffeinfrei). Da liegen einfach Welten zwischen den Marken! Für mich schmeckt er mit Abstand am besten. Das Aroma ist einfach köstlich und sehr intensiv, ich dosiere viel weniger und er bekommt mir bestens im Magen!Als Mitarbeiterin eines Weltladens habe ich das große Sortiment natürlich schon ausgiebig durchprobiert. Exzellente Kaffees und aufgrund der schonenden Röstung auch nach super verträglich und dazu aus fairer Produktion – so macht Kaffee wirklich Freude – nicht nur den Konsumenten, sondern auch den Produzenten in den Herkunftsländern!Fair Trade Kaffee zu verwenden ist mir wichtig und gibt mir ein gutes Gefühl und sowohl die Kaffee-Sorten wie auch der Espresso von GEPA Kaffee schmecken angenehm und haben ein volles Aroma. Deshalb greife ich seit Jahren immer wieder gerne zu einem GEPA Kaffee- Produkt.Der Kaffe von GEPA richt und schmeckt einfach sehr gut. Biologisch und fair produziert ist bei allem Lebensmitteln wichtig, aber seit ich selber einkaufe achte ich vor allem bei Kaffe darauf fair zu kaufen! Und das kann man sich auch als Studentin leisten, finde ich.Der Klassiker. Damit hat´s doch angefangen… Mittlerweile schmecke ich auch unter den fairen Kaffees den GEPA heraus, ob ihr´s glaubt oder nict. Über Geschmack lässt sich bekanntlich trefflich streiten, mir schmeckt er jedenfalls ausgezeichnet, anderen vielleicht nicht, so ist´s eben. Was dem einen hervorragend mundet, widerstrebt dem anderen. Unbestritten ist aber der faire Aspekt des Produkts, der ist nicht diskutierbar.Bei Gepa bin ich schon seit vielen Jahren Kunde , Gepa handelt fair, transparent und langfristig sozial und ökologisch. Die Produkte sind erstklassig, der Kaffee hat ein tolles Aroma ..schmeckt würzig und edel. Für die Verpackung wird ein recyclebare Folie anstelle von Aluminium genutzt.100% reiner Arabica, geschmacklich überzeugende aromatische Bio-Röstungen, von der Deutschen Röstergilde ausgezeichnet, aus handwerklicher Trommelröstung, Menschen mit geistiger Behinderung sind in allen Produktionsschritten eingebunden, aus kleinbäuerlichen Projekten, fair gehandelt, nur ohne Fairtrade-Sigel … So lassen sich Genuss und Arbeitsplätze für Menschen mit Behinderungen überzeugend verbinden!Café Kogi schmeckt schokoladig und nach Kakao, aber letztendlich sind es die Kogi-Indianer, die den Unterschied machen. Der Kaffee ist etwas Besonderes.Dieser Kaffee hat mich zur Kaffeetrinkerin gemacht! Wer diesen Kaffee kauft, unterstützt nicht nur tolle soziale Projekte, sondern kann auch die Liebe und Sorgfalt mit welcher der Kaffee gefertigt wurde schmecken. Meine Favoriten sind die Sorten Äthiopien und Sumatra.Zu gut, um darüber zu diskutieren. Dieser Kaffee ist von einer ganz besonderen Güte. Er wird von Hand verarbeitet und mit unglaublicher Sorgfalt behandelt. Das riecht und schmeckt man! Die soziale Komponente, welche hier zusätzlich zum Tragen kommt, spiegelt sich zudem in einem wohligen Bauchgefühl wieder. Gutes tun und Gutes genießen!Bester Kaffee den ich je getrunken habe und damit ein wunderbares Projekt zu unterstützen das bereitet mir persönlich eine große Freude. Danke☕️ Ich genieße jede Tasse Kaffe – auch den Espresso, das sind meine geschmacklichen Highlights des Tages, angereichert mit positiver Urwaldenergie. Sehr empfehlenswert!Der beste Kaffee den ich kenne, für mich ganz klar die Nummer 1 🙂Jede Tasse ein Genuss, Kaffee und Röstung sind perfekt und das Café Kogi in Köln eine Reise wert !Ansprechende Verpackung, schneller Versand aus Deutschland, gute Qualität, super Geschmack, gutes Preis-Leistungsverhältnis. Fazit: Volle Punktzahl!Hinweis: Kommentar wurde von User gelöscht!Das Konzept überzeugt, der Geschmack ebenfalls. Da es aber keine Bioqulität ist, wird es wohl die einzige Bestellung bleiben. Schade.Auch hier stimmt das Preis-Leistungs-Verhältnis und der Geschmack ist hervorragend!Spaß beiseite – aber ganz ehrlich: SO geht Kaffee! Diese zu einem (Kaffee-)Traum verarbeiteten Bohnen, versprechen schon beim Öffnen der Packung einen unvergleichlichen Genuß. Die feine, fast nicht mehr vorhandene Säure umschmeichelt den Gaumen und der herrliche Duft dieser Kafferöstungen verzaubert jeden Kaffeegenießer. Ein Traum! Auch die Menschen, welche diesen Kaffee produzieren sind unglaublich. Die Bohnen werden handverlesen und traditionell, schonend geröstet. Hier steckt vor allem eben auch sehr viel Liebe drin. Das schmeckt man!Tipp: Den Kaffee einmal wieder wie zu Großmutters Zeiten von Hand mit kochendem Wasser aufbrühen. Noch besser: Als Espresso-Röstung kaufen und dann mit einer Siebträger-Maschine zubereiten oder einer Bialetti aufbrühen. Seit es die molinillo-Sorten gibt, gilt für mich: kein anderer mehr! Ich trinke vor allem den Papua-Espresso in der Bialetti zubereitet und selbst der diesjährige Italienurlaub mit häufigem Cafè-Genuss änderte nichts: der molinillo ist und bleibt der Beste! Dass der Kaffee schonend und weitestgehend von Hand in einer Werkstatt für behinderte Menschen veredelt wird und Kleinstbauern auf dem ganzen Kaffeegürtel unterstützt, ist ebenso großartig wie es im Grunde eine Selbstverständlichkeit sein sollte. Überzeugt hat mich aber das Produkt selbst.Kann den Kaffee nur voll und ganz empfehlen, verschenke ihn auch oft und gerne, bisher waren alle begeistert. Er schmeckt großartig und ist einzigartig, ebenso wie das tolle Projekt, das mit dem Kauf unterstützt wird. Kogi Kaffee schmeckt einfach wunderbar und das Projekt ist großartig. Wir kannten das Café, Kogi als Touris in Köln, noch nicht und gingen spontan mal hinein. Der Empfang war sehr freundlich und aufmerksam,bei der Platzsuche wurde sofort geholfen.Ich fühlte mich( und das ist leider nicht immer selbverständlich..) als Gast wahrgenommen.Als sich mein Freund zwischen 2 Smoothies nicht so recht entscheiden konnte; half die charmante Service Person und erklärte die geschmacklichen/inhaltlichen Unterschiede präzise und sicher. Der Kaffee war Bombe,der smoothie auch spitzenmäßig! Es herrschte eine sehr relaxte und wohltuende Atmosphäre. Ich konnte(sogar!) Leute sehen, auf deren Tischen KEINE Handys lagen, sondern die im Gespräch vertieft waren. Die Preise waren aus meiner Sicht völlig realistisch und passend. Wenn wir nochmal in Köln sind,wollen wir gerne wieder kommen. Liebe Grüße aus Ostwestfalen- LippeSchneller Versand, gut verpackt, aber die Hauptsache: leckerer Kaffee, den ich ohne Milch und/oder Zucker trinke. Den höheren Preis gegenüber Supermarktkaffee zahle ich gerne. Auch schön, daß man einen kleinen Geldbetrag für Entwicklungsprojekte beisteuern darf. Ich bin restlos begeistert!Einfach köstlich, muss man unbedingt mal probiert haben. Zudem noch ein Spendenanteil von 1 Euro für Entwicklungsprojekte. Sehr vorbildlich.Auf der Suche nach einer Alternative zu den Nespresso-Kapseln sind wir auf Coffee Circle gestoßen. Die Firma aus Deutschland bietet Bio-Kaffee passend für die Kapsel-Maschinen an, die sogar noch günstiger und leckerer als das Original sind. Es gibt zwar nur 4 Sorten, die reichen aber gut aus. Meine Lieblingssorte ist Limu, schmeckt sehr aromatisch, ohne Milch und Zucker!So wie es sein soll 🙂Ich habe einen Beitrag über Angelique’s Finest in der Frauenzeitschrift Brigitte gelesen und spontan ein Kilo Kaffee bestellt: 500 g Bohnen für mich und 500 g Bohnen für meine Schwester. Wir sind beide sehr angetan und werden unseren Kaffee künftig von der Kooperative beziehen. Ich habe über Crowdfunding diesen sehr guten Kaffee entdeckt und bin begeistert. Volles Aroma, sehr guter Geschmack, die ganzen Bohnen sehr gut für Kaffeevollautomaten geeignet. Kaffee ist sicher Geschmackssache. Arbeits- und Lebensbedingungen von Erzeugern sind es nicht. Ich habe die Einführung von Angelique’s Finest über startnext unterstützt und diese Entscheidung nicht bereut. Der Kaffee schmeckt mir sehr gut. Ich mahle ihn selbst, brühe ihn in einer Pressstempelkanne, werde weiterhin meinen Kaffee aus der Ruanda Kooperative beziehen und für den Kaffee werben. Der Mehrpreis macht den Unterschied: für die Qualität des Kaffees und seinen Geschmack UND die Existenz und das Selbstwertgefühl aller am Produktionsprozess Beteiligten. Eine Win-Win-Situation, die den Namen wirklich verdient. Das macht den Unterschied. Also einfach mal bestellen und auf den Geschmack kommen!!!!Grundsätzlich unterstütze ich gerne Frauen-Initiativen – und diese Kaffee-Kooperation finde ich besonders unterstützenswert. Der Kaffee schmeckt hervorragend und ist auch sehr gut verträglich. Übrigens ist ein Pfund Kaffee auch ein schönes Geschenk für viele Gelegenheiten!Als ganze Bohne gekaufter Kaffee sehr, sehr lecker! Das Konzept der Direktvermarktung ist sehr stimmig und gelingt durch die sehr schnelle, einfache Bestellmöglichkeit und Versendung. Auch der Kontakt bei Fragen erfolgt prompt, freundlich und kompetent. Ein äußerst gelungenes Konzept, von denen es viel mehr auf dieser Welt geben müsste!Geschmacklich: 5 SternePreis- Leistungsverhältnis: 5 SterneBei Denns gibt es viele hervorragende Produkte, auch der Kaffee aus dem Fairtrade-Projekt ist ein voller Erfolg. Er ist rund im Geschmack und meine Kaffeemaschine macht daraus einen guten und schmackhaften Trunk.Der Beste Kaffee , den es gibt. Der Geschmack und Duft sind ausschlaggebend gewesen, dass ich diesen Kaffee als meinen Lieblingskaffee gewählt habe !hier ist klar dass ein guter fairer Kaffee nicht teuer sein muss, der Geschmack ist auch etwas besonderes durch seine Würze schmeckt er gut in aufgeschäumter Milch wenn man ihn etwas stärker ähnlich wie einen Espresso zubereitetSehr feines Aroma, gut verträglich. Wunderbar, dass behinderte Menschen bei der Röstung beteiligt sind – ich habe meine Marke gefunden!Ich habe lange gesucht, jetzt habe ich den Kaffee gefunden, der uns allen schmeckt und von ganz besonderen Menschen veredelt werden. Meine Sorte ist die aus Äthiopien und das seit über zwei Jahren. Vielen Dank für die fleißigen Hände dortMittlerweile beschenke ich nicht nur mich selbst sondern auch Freunde mit Kaffee von Coffee Circle. Sehr transparentes Unternehmen und da der Kaffee jedes Jahr ausgewählt wird, gibt es zwar keine riesige Auswahl, dafür umso bessere Qualität. Für Viel-Trinker gibt es ein Abo – alle paar Wochen kommt dann ein neues Paket Kaffee nach Hause. Sehr schöne Idee, wie ich finde.Der Kaffee ist gut, ein Kauf lohnt sich und erfüllt einen guten Zweck.Tchibo und fair – das ist einfach so ein Riesengroßer Quatsch, das in einem Satz zu nennen. „Oh ok, alle wollen fairen Kaffee, da bieten wir einfach mal zwei Sorten an für die wir ein bisschen mehr bezahlen. Das können wir ja wieder reinholen, indem die anderen weniger kriegen, näch?“ Bei sowas fühl ich mich verulkt.Ich habe ein tolles Testpaket erhalten.Der Kaffee ist schön mild und gut geröstet.Er schmeckt mir ausgezeichnet.Chai Latte nur zu empfehlen,sehr cremig.Die Instant Sticks sind klasse,habe noch nie so guten löslichen Kaffee getrunken.Den Kaffee gab es bei mir schon öfter und ich finde ihn sehr lecker. Ich versuche Kaffee möglichst immer FairTrade zu kaufen und freue mich, dass Rewe einen bio- und fairtradezertifizierten Kaffee anbietet.Aufgrund eines Artikels in der Zeitschrift BRIGITTE bin ich auf die Kaffee-Kooperative und den Kaffee aus Ruanda, von Frauen hergestellt, aufmerksam geworden. Den Kaffee habe ich direkt bestellt und finde den leicht schokoladigen Geschmack toll. Außerdem ist dieses ein super Projekt! Unbedingt unterstützenswert!Kundenbetreuung: 5 SterneProdukt mit Sinn &amp; Mehrwert: 5 SterneNachhaltige Unterstützung vor Ort: 5 SterneMoin liebe Utopia-Kaffeetrinker! Ich habe mein Lebtag immer gern Kaffee gerochen, aber bis vor ca. 4 Jahren nie getrunken, weil mir Kaffee immer auf den Magen schlug. Als mein Sohn sich zum Kaffeetrinker entwickelte, mußte ich welchen einkaufen und landete bei dem Sidamo. Da das Aroma sehr weich und verführerisch duftete, mußte ich ihn probieren und – siehe da – keine Magenprobleme, sondern ein warmer, weicher/milder Genuß! Allerdings liebe ich ihn mit viel Milch u. ’nem Schuß Sahne. Um den Genuß noch zu verfeinern, den Kaffee noch weiter abzumildern, streue ich manchmal in den Papierkaffee-Filter zuerst eine kl. Prise echtes Bourbonvanille-Pulver!In Kombination mit gefiltertem Wasser für uns der beste Kaffee! Herrlich aromatisch und einfach wunderbar lecker!! Da er sehr mild im Geschmack ist und überhaupt nicht bitter, brauche ich keine Milch – wie sonst in anderen Kaffees. Einfach perfekt!Der Kaffee schmeckt wirklich lecker und macht ein gutes Gewissen!Etwas ölig – laut. Experten eher nachteilig –\\xa0doch in meiner Europiccola mit passender Mühle zubereitet wirklich ein leckerer Espresso. Sehr ausdrucksstark, wenig Bitterstoffe, schöne, feste Crema.Der Cafe Classic überzeugt mich leider nicht so. Auch wenn er wenig Säure hat, ist er etwas fad und hat nur wenig Aroma.Der Mazkaffee von Alnatura ist eine eine gute Alternative wenn man gerade keinen Kaffee verträgt. Er ist würzig im Geschmack pur mit heißem Wasser aufgelöst ist er sehr gut bekömmlich und wenn man mag kann man ihn auch mit etwas Milch abrunden.Ich finde gerade den Espresso sehr gut. Dass sich ein Unternehmen wie Tchibo den gleichen harten Fair Trade Zertifizierungskriterien beugt wie gepa etc., sollte nicht bestreikt, sondern gerade belohnt werden. Wir wollen doch auch die Großen von fairem Handel überzeugen: nur die können über den Umsatz das große Rad drehen. Also kein falscher Stolz!Der Espresso ist sehr gut und lecker im Siebträger. Kann ich empfehlen!Wir haben sowohl den Barista Espresso als auch den Barista Café Creme von Tchibo eine Woche im Vollautomaten im Büro getestet. Beide sind die einzigen Fairtrade-Kaffeesorten von Tchibo. Das intensive Aroma des Espresso kam am besten an. Die meisten unserer Kaffeetrinker haben dafür gute Noten verteilt. Im Vergleich zu günstigeren Fairtrade- Café Cremas schnitt die Tchibo Variante sehr gut ab. Ich persönlich würde weiterhin den Barista Espresso kaufen, da er für ein Fairtrade-Produkt einen akzeptablen Preis von etwa 13-15 Euro pro Kilo Bohnen aufweist. Zwei bis drei Euro mehr pro Kilogramm gegenüber herkömmlichen Bohnen ist für mich ein guter und akzeptabler Schritt zu einem besseren Konsum…Wir Lieben diesen Kaffee nicht nur der Geschmack ist toll nein er ist auch günstig dafür das er das fairtrade Siegel hat.Da trinkt man gerne ein paar Tassen mehr.Also ich finde der Kaffee ist jeden Euro wert.Ich finde den Geschmack intensiv und aromatisch. Edler Kaffee. Chai Latte ist super lecker, hab bisher niemals probiert, ist sehr schön. Die Mounthagenprodukte kann ich nur empfehlenSehr leckerer vollmundiger, aber milder Kaffee, dazu im unteren Preissegment anzusiedeln!Wir sind ganz begeistert. Mein Mann hat Probleme mit Sodbrennen und ich bin eine genervte Allergikerin, die jetzt ganz bewußt zu Bio-Produkten greift. Wir genießen diesen Kaffee, da er uns ganz besonders schmeckt, er für meinen Partner bekömmlicher ist, ich persönlich diesen Kaffee besser vertrage und dann haben wir noch ein gutes Gefühl, dass die Menschen, die ihn anbauen, einen gerechten Lohn dafür bekommen. Mehr kann ich von einem Produkt nicht erwarten. Note: 1 Danke dafür!Für mich, ist der Café de Maraba von der Kaffee-Kooperative der beste Kaffee. Hier stimmt einfach alles. Der Geschmack ist meiner Meinung nach perfekt – so muss Kaffee schmecken – nicht bitter oder streng, sondern aromatisch kräftig mit Kakao-Noten – einfach köstlich! Der Preis pro Kilo ist absolut in Ordnung, der Versand geht schnell und reibungslos, freundliche Kundenbetreuung. Ich kann den Kaffee nur weiterempfehlen. Eine neue Kaffeesorte von der Kaffee-Kooperative ist auch schon bestellt. Ausschließlich von Frauen geerntet und verarbeitet – Angelique’s Finest. Darauf freue ich mich schon sehr. Habe auch beim Growdfounding dafür Beitarg geleistet. Schön wäre, wenn es der Kaffee Koperative gelingen würde, den Kaffee Bio-zertifizieren zu lassen.Geschmack: super! Bestellung: sehr einfach. Lieferung: akzeptabel. Ich würde nicht mit Hermes versenden, sonnst ok. Sehr guter Kaffee,Für uns der beste Kaffee überhaupt. Auch preislich absolut im Rahmen. Zusätzlich ein gutes Gewissen. Wir können diesen Kaffee absolut weiterempfehlen.Ich finde es toll, dass Gepa auch regionale Spezialitäten anbietet. Die Mount Elgon Kaffee Sorte gehört zu meinen liebsten. Sie ist nicht ganz günstig, aber für den Geschmack bezahle ich gern etwas mehr. Vor allem, da ich selber schon in der Region war, da ist der Kaffee nochmal etwas schöner.egal welche Sorte, alle schmecken sehr gut, sind sehr bekömmlich und gut für den MagenWenn man den „normalen“ Kaffee (gleiche Bohne) von anderen (nicht bio) Herstellern gewohnt ist, dann ist das Geschmackserlebnis des Cafe Classic von Alnatura erst mal nicht so kräftig, da einem die Bohne recht mild erscheint. Ist man aber nach ein paar Tagen auf die Bohne umgestellt, will man ehrlich gesagt auch keinen anderen mehr da, meiner Meinung nach, gerade die Milde der Bohne den Geschmack dann richtig zu Geltung kommen lässt.Nach dem Test unterschiedlicher Biokaffees mit meinem Vollautomat bin ich am Ende wieder bei dem Espressopulver bzw. -bohnen von Alnatura gelandet. Sehr angenehm kräftiger Geschmack ohne dabei sauer oder bitter zu sein, hervorragende Crema – wirklich toll! 4 von 5 Sternen vergebe ich, weil ich es super fände mit dem Kaffeekauf konkret ein Projekt zu unterstützen, dass darauf abzielt bessere Lebens- und Arbeitsbedingungen für die Kaffeebauern und ihre Familien zu schaffen.Mein absoluter Lieblingskaffee. Im Büro blind getestet im Vergleich zu anderen Fairtrade-Kaffees.Wir verwenden in unserer Firma (coupons4u.de) schon seit geraumer Zeit die Tchibo BARISTA-Espresso Bohnen und den Cafe Crema. Die Qualität hat sich bewährt, der Espresso schmeckt vollmundig und kräftig, wie er sein soll. Auch der Cafe Crema gelingt in unserem Vollautomaten wunderbar und schmeckt aromatischer als von manch anderem Hersteller, also geschmacklich beide Sorten sehr gut. Der Preis liegt auch noch im relativ günstigen Segment für Bio- bzw. Fair Trade Kaffeebohnen. 5 Punkte würde ich allerdings nur dann vergeben, wenn die Bohnen auch noch ökologisch angebaut werden würden.das ist in sehr Geschmackvoller Kaffee,den ich immer wieder Kaufen würde,vor allem weil er Fair Trade gehandelt wird,das ist mir sehr wichtig,allein deswegen würde ich schon 5 Sterne vergeben 😉Bio drauf und bio drin, genau so wie es sein soll un das schmeckt man!!!!! Lecker! Eigenmarken überzeugen mich nicht immer, da sie auf ein Produkt nicht wirklich spezialisiert sind und meiner Meinung nach somit keine Perfektion erreichen aber hier ist es gut gelungen!Wir haben in der Vergangenheit den SCHIRMER bio fair getrunken, der allerdings leider aus dem KAUFLAND-Sortiment genommen wurde. Nach mehreren Versuchen mit anderen bio-fair-Kaffees stießen wir auf den REWE Bio Röstkaffee Fairtrade. Wir bereiten den Kaffee immer mit der Pressstempelkanne zu und haben daher weiter einen Vergleich. Der REWE-Kaffee hat ein volles Aroma und ist weitgehend frei von sauren Aromen. Er ist sehr bekömmlich und daher werden wir ihn weiter verwenden. für mich schonend geröstet sehr bekömmlich… gleichbleibend gute Qualität… Ohne viel Säure..Geschmack und Konzept überzeugen mich vollkommen. Ich finde es gut und wichtig, dass in Ländern in denen Rohstoffe geerntet oder abgebaut werden, diese auch weite rverarbeitet werden. Damit halten die Produzenten einen längeren Teil Wertschöpfungskette in ihren Händen und erzielen höhere Gewinne. Und es reißen sich nicht irgendwelche Konzerne alles unter den Nagel. Bioqualität wäre tatsächlich wünschenswert, am besten nicht nur EU-Bio.Gepa-Produkte mit Fairtrade-Siegel sind inzwischen weit verbreitet und auch ein gern gesehenes Geschenk. Fairtrade wird nach meinem Eindruck hier sehr transparent und glaubwürdig vermittelt. Das Kaffee-Sortiment entspricht meinem Geschmack und für fair gehandelte Qualität zahle ich gern ein wenig mehr.Wir kaufen seit Jahren begeistert „Bio Café Esperanza“, weil er uns am besten schmeckt. Der Preis ist zwar relativ hoch (für einen Studentenhaushalt), aber hinsichtlich der Qualität und da er Bio + fairtrade ist absolut gerechtfertigt. Wir trinken aber nicht viel Kaffee.Bei der Verpackung könnte, sofern technisch möglich, Material gespart werden, da der Kaffee recht luftig verpackt ist. Mich würde auch interessieren, aus welchem Material die Verpackung ist. Bei Kaffee bin ich mir generell unsicher, was das geringere Übel ist: Aluminium oder Plastik?! Da Aluminiumverpackungen in der Regel eine zusätzliche Kunststoffverpackung besitzen, finde ich die GEPA-Verpackung gut.Zugegebenermaßen gibt es unter den konventionellen Kaffees, die sich für die Verwendung in der Espressomaschine eigenen welche mit mehr Pepp. Unter den Bio Kaffees ist der Alnatura (auch der Espresso) meines Erachtens nur duch wenige zu schlagen. Er hat nich so viel Aroma und wir dosieren ihn etwas stärker, aber zugunsten des Bio Labels nehmen wir das in Kauf.Der Alnatura Kaffee ist stark, aber nicht zu bitter und sehr aromatisch. Uns schmeckt er am besten. Als Milchalternative passt Soja-Vanille wunderbar dazu.Wir stellen nach und nach alles auf Bio-Qualität um. Ich bin Allergikerin und ich muss sagen, ein neues wunderbares Lebensgefühl stellt sich ein. Ich stehe vor dem Marktstand unseres Biobauern in Hamm und glaube ich bin im Paradies. Ich kann wieder vielmehr essen. Und jetzt eben der Kaffee von Alnatura, gemahlen. Wow, ich habe das Gefühl, mir geht es von Tag zu Tag besser. Mein Mann und ich haben einen neuen ganz besonderen Kaffeegenuss. Danke Alnatura!!Tchibo Barista- Der Name und die Aufmachung der Verpackung verspricht hier einen ganz besonderen Kaffeegenuss und noch dazu ist er fair gehandelt. Da wir zu Hause sehr gern Kaffee trinken, mussten wir auch diese Sorte probieren. Wir trinken unseren Kaffee frisch aus der Kaffeemühle und aus der Stempelkanne und würde sagen, dass dieser Kaffee dafür nicht geeignet ist. Der Geschmack kommt leider nicht sehr vollmundig heraus. Er ist zwar generell gut, ist aber viel zu schnell verschwunden und geht is wässrige über. Bei anderen Kaffeesorten ist mir das noch nicht so sehr aufgefallen. Der Preis ist in Ordnung, aber 1kg Packungen als Privatperson leider nicht sehr praktisch, weil man zu lange benötigt um die geöffnete Packung aufzubrauchen. Wünschenswert wäre auch eine Bioqualität gewesen. Fazit: Für Vollautomaten scheint dieser Kaffee sehr gut geeignet zu sein, für Stempelkannen jedoch würde ich diese Sorte nicht empfehlen.Der Geschmack ist ganz ok, aber ich finde er könnte doch noch etwas aromatischer sein.Bislang muss ich wirklich sagen, der Barista Café Crema ist der einzige fair gehandelte Kaffee, der allen meinen Freunden und Familienmitgliedern schmeckt. Kann ich echt empfehlen, endlich mal ein Produkt, das überall nur Jubel auslöst.ich trinke nur wenig Kaffee aber dafür regelmäßig und bin erstaunt, dass dieser Kaffee schmeckt. Ich hatte damit gerechnet, dass er bitter ist und nicht voll im Geschmack. REWE Bio Röstkaffee Fairtrade hat mich aber überzeugt im Vergleich zu Tschibo, den ich zu vor getrunken habe.Wir trinken ab und an, und zur Abwechlung zu GEPA, diesen Kaffee. Im Vergleich zu „GEPA Bio Café Esperanza“ ist dieser Kaffee etwas herber und weniger nach meinem Geschmack. Der Preis ist allerdings sehr gut. Die Verpackung ist ein Mix aus bedrucktem Papier und Aluminium. Als Konsument von Bioprodukten finde ich, dass ein Bioprodukt noch attraktiver ist, je umweltfreundlicher die Verpackung ist. Daher besteht hier Verbesserungspotential, z. B. durch ein umweltfreundlicheres Papier. Ob bei Kaffee Aluminium- oder Plastikverpackung das geringere Übel ist, kann ich nicht beantworten.Es ist kein schlechter Kaffee -wirklich nicht!!!- er rangiert aber eben nur im Mittelfeld. Ihm fehlt die vollmundig runde Note, die für mich für 5 Sterne nötig ist. Aber zugegeben, ich bin echt verwöhnt. Die drei Sterne bewerten nur den Geschmack. Das Preis Leistungsverhältnis ist 4 Sterne Wert.Also, der Morgen gehört mir. Alle wissen das und selten kreuzt jemand mein Ritual. Aufstehen, Badezimmer, Anziehen und nicht viel reden. Gar nicht reden bis ich meinen Kaffee hatte. Ich brauche kein Frühstück, aber ich brauche einen großen Milchkaffe guter Qualität. Dazu gehört als erstes Mal, dass er fair trade ist. Ich habe keine Lust den Tag mit einer Ungerechtigkeit zu beginnen. Zweitens muss er Bio sein, ich kann meinem Körper nicht noch mehr Schadstoffe zufügen. Aber nicht nur Bio – Gepa ist auch Gentechnik frei. Und drittens soll er schonend geröstet sein, das ist besonders beim Espresso wichtig, sonst wird er zu sauer. Ein würziger, aber milder Kaffee, das verstehe ich unter gutem Aroma! Ich probiere gerne Kaffee aus, ich bringe ihn mir mit aus Ethiopien, oder Südamerika. Aber wenn ich zu Hause einkaufe, dann fällt meine Wahl regelmäßig auf den GEPA italienischen Bio Kaffee, denn er ist der Beste für mich!Der Gepa Cafe Camino ist mein absoluter Favorit. Leider ist er nicht immer in den lokalen Läden hier vorrätig. Ich liebe sanften, magenfreundlichen Cafe. Und dieser übertrifft an Geschmack und Aroma alle, die ich bisher probiert habe! So kommt mir kein anderer mehr in den Filter!Sehr leckerer Espresso, er ist mein persönlicher Favorit. Ich liebe den Geschmack von italienischem Espresso und der Bio Espresso trifft ihn ganz und gar – wie im Urlaub eben – nicht bitter und wenig Säure, dafür voller Geschmack . Auch die Raritäten sind sehr geschmackvoll und empfehlenswert. Ich koche sie mit einem Kaffeevollautomaten da werden die Bohnen frisch gemahlen und heiß aufgebrüht ist für jeden Geschmack etwas dabei. Am besten daran : fair und Bio !Wir lieben Kaffee, bei uns steht der Vollautomat selten still. Deshalb legen wir besonderen Wert auf milden , vollmundigen Kaffee. Dies ist Tchibo Barista gelungen. Mit dem sanfteren Caffé Crema liegen wir auf einer Wellenlänge Deshalb werden wir nun öfters zu Tchibo Barista greifen. Ab und an etwas Abwechslung schadet ja nie. Das Aroma, die Crema, der Geschmack sind einfach *berauschend*. eben wie schon gesagt- Hier kommt der Genuss..Ein kleiner Kaffee bei Rewe, von einem Fairtrademitarbeiter machte den Anfang. Er schmeckte nach einen langen Tag nicht nur besonders gut, wir haben uns auch ausgiebig über Fairtrade unterhalten. Meine Zweifel dass es sich bei diesen Produkten um wesentlich teurere handeln, wurden beseitigt. Bei mir bekommt der Rewe Kaffee fünf Sterne weil er nicht teurer ist als ein anderer, schmeckt und man von Rewe über Fairtrade aufgeklärt wird.Schon beim Öffnen der Pakung verbreitet sich ein schöner, angenehmer Kaffeeduft im Raum. Auch geschmacklich hält der GEPA Kaffee, was er verspricht, ein angenehm vollmundiges Aroma.Ich kann den Kaffee auf jeden Fall empfehlen, auch wenn er preislich etwas teurer ist.Ein wirklich richtig leckerer Kaffe! Bei der Auswahl an der Produktpalett hilft einem prima die ausgemahlten Kaffebohnen, die kennzeichnen, wie stark der Kaffee ist. Allerdings ist er sehr luftig verpackt und da könnte man doch etwas sparen. Ansonsten ist der Preis gerechtfertigt und lässt einem wirklich JEDEN schluck genießen und vor jeder Tasse überlegen, ob man wirklich lust auf ein Kaffee hat oder ob es ein sogenannter Gewohnheitskaffe ist!Von der Ökotest noch gerügt für fehlender Fairtrade und tlw. auch Biosiegel macht gerade das Konzept von Coffee Circle in meinen Augen so richtig nachhaltig Sinn. Es geht primär um Kaffeearomen und Qualität und nicht bloß um Bio und Fair. In meinen Augen sollten diese Aspekte eh grundlegend in Produkten verankert sein, was leider einem effektiven Gewinnstreben unter aktuellen Marktvoraussetzungen realistisch aber einfach nicht entspricht.Ich kaufe nur Gepa Fair + Kaffee, da diese strengere Richtlinien beachten wie andere Kaffees die das Fairtrade Siegel tragen. Zudem kann ich hier sicher sein das es nicht die Discounter sind welche den Preis drücken. Geschmacklich ist der Kaffee absolut überzeugend, egal welche Sorte.Der Bio-Espresso Chiapas aus der Spezialitäten-Serie von gepa hat mich zu 100% überzeugt! Geschmacklich hervorragend! Ich kaufe die Bohnen, mahle sie frisch und bereite den kaffee/Espresso dann im Espressokocher zu. Die Dosierung ist sehr sparsam und der Kaffee vollmundig, säurearm, dabei mittelkräftig und harmoniert gut mit Milch. Und das gepa fast das einzige Unternehmen ist, das auch WIRKLICH faire Handelsbedingungen lebt, brauche ich wohl kaum zu erwähnen und macht die ganze Sache perfekt 🙂Das breite Sortiment von Mount Hagen begeistert mich. Zum Frühstück trinke ich gerne den Papua Neuguinea Kaffee aus meiner Frenchpress. Nach dem Mittagessen liebe ich die cremige Chai Latte Classic India, zur Kaffepause darf es auch gerne mal schnell gehen, da hilft mir der Instant Arabica Cafe. Nach dem Abendessen dann einen feinen Espresso und als Schlaftrunk einen Dinkelkaffee. Wer ökologisch angebaute Cafés die zu Fairtrade Kondition von Kleinbauern in den Ursprungsländern eingekauft werden trinken möchte und eine sagenhafte Vielfalt genießen möchte, ist bei Mount Hagen an der richtigen Adresse!CC motiviert seine Kooperativen wirklich die besten Kaffees anzubauen und als Einwohner DES Kaffeelandes gelingt das den Äthiopiern mit Bravour. Man bekommt hier keinen Monokultur Plantagenkaffee aus Kinderhand sondern leckere Spitzenprodukte aus natürlichem Waldanbau. CC bezahlt zu fairen Preisen und setzt sich für die Biozertifizierung ein, damit die Kaffeebauern generell höhere Preis verlangen können. Zudem fließt 1 € pro KG in soziale Projekte vor Ort, wie die Zertifizierung oder aber in den Bau von Schulen. Bildung ist der Schlüssel! Weil das System nicht nur sinnvoll umgesetzt ist, sondern CC auch noch den besten Kaffee bietet, der mich morgens in Schwung bringt und mir zudem noch zeigt, wie ich in perfekt zubereite, gibt es von mir volle Punktzahl. Setzen: FÜNF!Ich konnte schon Coffe Circle Kaffee schon probieren und muss wirklich sagen das es ein Spitzenkaffee ist der nicht vergleichbar ist mit den standdart Marken aus dem Supermarkt vorallem finde ich die 1 euro für entwicklungsprojekte top.Dieser Kaffee ist besonders lecker im Geschmack, kräftig und intensivCafe de Maraba hat es geschafft, dass ich und mein Mann nach Jahren der Kaffee-Enthaltsamkeit wieder in die Kaffeetrinker-Liga aufgestiegen sind ;-). Endlich ein Kaffee der schmeckt und dabei auch noch ein gutes Gewissen macht ;-).Mount Hagen bietet hochwertigen Kaffee Genuss für jeden Geschmack. Ob exotischen Dinkelkaffee, Espresso oder Chai…. Hier wird jeder Geschmack fündig und mich tollem Geschmack belohnt. Hier gibt es wirklich Fairtrade Kaffee zu fairen Preisen und mit 100% Geschmack. Kann ich wirklich nur weiterempfehlen. Wir haben auch neue Sorten probiert, wo wir vorher nie im Leben daran gedacht hätten Sie zu trinken. Aber was soll ich sagen… der Geschmack von der vielfältigen Mount Hagen Sorten hat uns überzeugt.Der Kaffee von Mount Hagen ist einfach ein wahres geschmackserlebnis und jeder Kaffeliebhaber sollte diesen Kaffee probieren! Der Papua Neuguinea und der Arabica Kaffee sind einfach nicht zz vergleichen mit anderen Kaffees! 100% Fairtrade, 100% ökologischer Anbau, 100% Qualität! Was will man mehr!… ist schön gleichmäßig geröstet, angenehm mild im Geschmack. Sehr aromatisch und doch vollmundig. Eine ganze Kaffeereihe durfte ich probieren und es würde bereits Nachschub bestellt. Preis / Leistung passt. Bio. und von Hand gepflückt, das ist meiner Meinung nach, Qualität. Das Design der Verpackung spricht mich schon sehr an.So kann man einen verregneten Tag gemütlich mit melitta verbringen. Das Preis Leistungsverhältnis stimmt absolut, ein wohlschmeckender Kaffee. Alles in allem sehr lecker und kann ich mit ruhigen Gewissen weiterempfehlen. Qualität auf ganzer Linie. Als leidenschaftlicher Kaffeetrinker kann ich diese Produkte nur empfehlen. Tipp: Unbedingt mit Milch und ein Stück Zucker trinken.Der Kaffe hält was er verspricht.Ein sehr aromatischer, ausgewogener Kaffee zu einem guten Preis. Fait Trade Daumen hoch.lesen Sie weiter: <a href=\"https://utopia.de/0/produktguide/essen-trinken-39/bio-kaffee\" rel=\"nofollow\" target=\"_blank\">https://utopia.de/0/produktguide/essen-trinken-39/bio-kaffee</a>tollHaben schon einige Packungen dort bestellt. Alle Sorten sind sehr lecker aber auch unterschiedlich im Geschmack. Toller Service mit auch kleinen Probepäckchen. Und dazu auch noch soziale Verantwortung . SuperDer Kaffee schmeckt sehr gut, Versand etc. problemlos und vor allen Dinge überzeugt das Konzept der Produktion.Seit gut einem Jahr bestelle und trinke ich Cafe de Maraba. Das Konzept überzeugt und vor allem schmeckt der Kaffee sehr gut. Ich verschenke diesen Kaffee gern als besonderes Special an meine erwachsenen Kinder und deren Freunde. Diesen Kaffee zu kaufen und dafür Werbung zu machen, ist besser als jede Entwicklungshilfe, bei der nie wirklich klar ist, ob und wo sie ankommt.Wir erhalten den Espresso von Kaffee-Kooperative seit ca. einem Jahr und er ist mild und hat ein sehr angenehmes Aroma. Die Qualität sieht man auch an den Bohnen. Sie sind immer in sehr guten Zustand. Reiner Genuss mit dem man etwas mehr macht, als mit normalen Fair-Trade!Der Kaffee von mounten hagen ist einfach klasse schmeckt gut und ist leicht zum zubereiten . Es ist 100% Fairtrade bio und wurde sogar von Hand gepflückt . Am liebsten hat mir der chai Latte gefallen ich werde es mir auf jeden Fall nach kaufen.Die Kaffees von Mount Hagen, sind nicht nur wahnsinnig lecker, sondern auch bio. Alle Kaffees werden ökologisch angebaut. Och finde man schmeckt, dass man einen besonderen Kaffe trinkt. Auch unsere Gäste sind immer wieder begeistert und fragen nach, welchen Kaffe wir gekocht haben. Wir werden ihn sich wieder bestellen.Der Mount Hagen Kaffee besticht wirklich mit seinem vollmundigen leckeren Geschmack. Ich trinke gerade meine Tasse Papua Neuguinea Kaffee beim Bewertung schreiben, das heisst doch schon alles. Es ist mein neuer Lieblingskaffee, er trifft genau meinen Geschmack. Ich finde Mount Hagen aber auch toll, weil er für Fairtrade steht. Ich kann den Kaffee wirklich nur weiterempfehlen und es sind definitiv Nachkaufprodukte!!Nicht wirklich günstig, dafür von der ersten Minute an konsequent fair und ökologisch, Kein Feigenblattmarketing wie bei vielen anderen Kaffeeproduzenten, sondern durch die Bank sauber. So soll es sein.Fair und ökologisch hergestellt – das ist mir wichtiger, als der Geschmack. Wenn er dann aber auch noch so lecker schmeckt, zahle ich auch gerne den relativ hohen Preis. Mein Lieblingskaffee ist der Limu, der einzige, der mir ohne Milch in die Tasse kommt.Einfach sehr lecker und auch preislich ok!Geschmacklich: 5 SternePreis- Leistungsverhältnis: 5 SterneKundenbetreuung: 5 SterneProdukt mit Sinn &amp; Mehrwert: 5 SterneIch finde das Konzept sehr gut, eine ganz tolle Sache. Die Aufmachung der Produkte ist sehr hochwertig und ansprechend, macht schon was her auf dem Schrank. Besonders toll finde ich die Auswahl, für jeden ist etwas dabei. Geschmacklich gab es bisher keine Sorte die mir nicht zu gesagt hat, natürlich gibt es den ein oder anderen Favoriten aber alles in allem finde ich Mount Hagen einfach eine Klasse Marke, die immer wieder gern gekauft wird. Der einzige Kritikpunkt ist leider die Chai Latte, ich hab tierisch Sodbrennen bekommen, da Chilli enthalten war aber ansonsten war auch dieses Produkt super 🙂 Der Kaffee von Mount Hagen hat mir sehr gut geschmeckt. Ich habe mich durch das breite Sortiment getestet und wirklich jede Sorte hat mir gut geschmeckt. Unser Favorit ist der Arabica Kaffee, aber besonders überrascht waren wir von dem super Geschmack der Instant Arabica Cafe Sticks. Ich habe noch niemals einen so guten Instant Kaffee getrunken. Dazu noch alles fairtrade und Bio zu einem mehr als fairen Preis. Wir sind absolut begeistert und bleiben dieser Kaffee Marke nun treu!geschmacklich habe ich an diesem kaffe gar nichts auszusetzen. geschmacklich ist es also ein guter bio-kaffee. das business-modell hingegen gefällt mir persönlich weniger gut. es ist auf gewinnmaximierung ausgelegt und coffee circle hat einen 30% partner mit ziemlich fragwürdigem geschäftsgebaren. ich hab die stellungnahme von coffee circle dazu gelesen aber mich überzeugt sie nicht.Der Coffee Circle hat mir sehr gut geschmeckt, er ist so ganz intensiv im Geschmack,aber dennoch nicht bitter oder scharf.Ausgezeichnet zu einem Stück Süßkram… Der Kaffee ist absolut seinen Preis wert!Nachhaltige Unterstützung vor Ort: 5 SterneFür mich, ist der Café de Maraba von der Kaffee-Kooperative der beste Kaffee. Hier stimmt einfach alles. Der Geschmack ist meiner Meinung nach perfekt – so muss Kaffee schmecken – nicht bitter oder streng, sondern aromatisch kräftig mit Kakao-Noten – einfach köstlich! Der Preis pro Kilo ist absolut in Ordnung, der Versand geht schnell und reibungslos, freundliche Kundenbetreuung (auf Sonderwünsche wird eingegangen). Ich kann den Kaffee nur weiterempfehlen. Eine neue Kaffeesorte von der Kaffee-Kooperative ist auch schon bestellt. Ausschließlich von Frauen geerntet und verarbeitet – Angelique’s Finest. Darauf freue ich mich schon sehr.Dieser Kaffee ist ein Hochgenuss und blendet auch noch im nachhaltigem Anbau und unterstützt zu 100% dort Bauern und Arbeiter wo er herkommt. Danke!!!Ich bestelle schon etwas länger und bin immer wieder begeistert. Finde es auch sehr gut immer informiert zu werden über Neues. Macht weiter so…..ich bin dabei!!!!Er ist lecker und wertvoll in jeder Hinsicht! Ich bestelle ihn (inkl. der 1. Probe) nun zum dritten mal und meine Schwester bestellt immer gleich was mit. Sie nimmt die ganzen Bohnen und ich die gemahlenen. Und wir werden definitiv bei diesem Kaffee bleiben!Ich finde den Kaffee einfach besonders im Geschmack und sehr wertschätzend, dass die Herstellung fair im Land erfolgt. Der neue Kaffee Angelique ist auch sehr lecker. Die Lieferung erfolgt schnell und der Kundenservice ist sehr freundlich . Immer wieder gerne!Ein wunderbarer Kaffee, mild und trotzdem sehr gut im Geschmack. Außerdem, so sollte Entwicklungshife sein. Hilfe zur Selbsthilfe. Großartig.Ich habe jetzt endlich meinen Lieblingskaffee gefunden.Ich muss zugeben, dass ich erst vor kurzem auf Mount Hagen gestoßen bin auf der Suche nach einer neuen Espressosorte. Ich war sofort überzeugt von dem unvergleichlichen Aroma: Vollmundig, dabei nicht zu sauer mit dezenter Note von Zartbitterschokolade. Im Kaffeeautomaten, selbst in Form von Kaffeepulver, gibt er eine schöne Crema. Rundum ein Genuss zu fairem Preis.Zurzeit ist der Mount Hagen mein Lieblingsespresso. Ich kaufe immer die ganze Bohne und mahle frisch mit einer Mühle zu Hause und brühe mit einer Frenchpress auf. Der Geschmack ist kräftig, rund und hat wenig Säure, was mir besonders wichtig ist. Ein toller Fairtrade Espresso der allerdings noch an der Verpackung arbeiten kann.Mit und OHNE Koffein – Espresso vom ALLERFEINSTEN – wie oben bei Gepa beschrieben, mein Favorit seit gut 2 Jahren nachdem der Gepa Espresso mir plötzlich, resp irgendwann nicht mehr mundete… Keine Ahnung warum. Ich könnte ja mal wieder probieren…Mit schmeckt der Kaffee von Mount Hagen vorzüglich. Sehr aromatisch. Eine Sorte, die ich sehr gerne pur und unverfälscht trinke. Aber auch der Espresso ist klasse für einen leckeren Milchkaffee oder noch besser Latte Macchiato. Feinster Kaffeegenuss, zu einem fairen Preis-/Leistungsverhältnis. Ich bin sehr begeistert von Mount Hagen Kaffee, schmeckt sehr lecker und Aromatisch! Aber auch der Espresso ist nicht ohne, den besten Espresso den ich je getrunken habe und das alles auch noch Fairtrade und Bio 🙂 Ich kann die Produkte nur weiter empfehlen. So einen super leckeren Kaffee habe ich schon lange nicht mehr getrunken. Ein Kaffee bei dem man jeden Schluck genießt. Würde ich immer wieder kaufen.Der Kaffee von Mounthagen ist sehr vollmundig und geschmackvoll.Der Kaffee ist fair gehandelt und es gibt viele verschiedene Sorten. Der Dinkelkaffee war anfangs etwas lasch, ich habe dann ein Löffel mehr verwendet und schon wurde es besser. Richtig gut ist der Arabica. Sowohl als Instant Kaffee als auch als Filterkaffee. Klare Kaufempfehlung ?Wir trinken in unserer Familie sehr viel Kaffee und sind vor kurzem auf den Fairtrade Kaffee von Mount Hagen gestoßen. Der Kaffee schmeckt uns sehr gut, er ist sehr aromatisch, vollmundig und keinenfalls bitter. Auch der Instant Kaffee hat uns überzeugt. Wir empfehlen Mount Hagen Kaffee jedem weiter, der Wert auf guten Geschmack, Qualität und fair gehandelten Kaffee legt.Ansprechende Verpackung, schneller Versand aus Deutschland, gute Qualität, super Geschmack, gutes Preis-Leistungsverhältnis. Fazit: Volle Punktzahl!Die Marke Mount Hagen Kaffee kann ich nur weiterempfehlen! Alle Produkte konnten uns bisher überzeugen. Wir hatten schon drei verschiedene Sorten des gemahlenen Kaffees (Papua Neuguinea Kaffee, Arabica Kaffee und Espresso), die Arabice Cafe´ Instant Sticks, den Dinkel Kaffee ohne Koffein und den Chai Latte. Mount Hagen Kaffee bietet ein edles Verpackungsdesign, sehr gute Qualität, tollen Geschmack, Fairtrade und alles ist in Bio-Qualität. Die Sortenvielfalt ist groß und die Preise wirklich absolut lobenswert! Der Aussage von Mountagen Kaffee „Kaffee für Fortgeschrittene“ kann ich nur zustimmen! Ich bin sehr froh, diese Marke entdeckt zu haben! Ein Kaffee der wirklich schmeckt!Wir sind erst vor kurzem auf den Mount Hagen Kaffee aufmerksam geworden und haben daraufhin einige Sorten getestet. Insgesamt sind wir mit dem vollen Aroma und der angenehmen Säure sehr zufrieden. Wir trinken hauptsächlich Latte Macchiato oder Cappuccino. In Kombination mit Milch hat uns der Kaffee überzeugen können. Ich habe den Kaffee heute genüßlich getrunken. Er schmeckt wirklich ganz ausgezeichnet! Und was mich noch mehr überzeugt: durch die Röstung und Verpackung des Kaffees in Ruanda verbleibt mehr Geld im Herkunftsland.Schneller Versand, gut verpackt, aber die Hauptsache: leckerer Kaffee, den ich ohne Milch und/oder Zucker trinke. Den höheren Preis gegenüber Supermarktkaffee zahle ich gerne. Auch schön, daß man einen kleinen Geldbetrag für Entwicklungsprojekte beisteuern darf. Ich bin restlos begeistert!Einfach köstlich, muss man unbedingt mal probiert haben. Zudem noch ein Spendenanteil von 1 Euro für Entwicklungsprojekte. Sehr vorbildlich.Auf der Suche nach einer Alternative zu den Nespresso-Kapseln sind wir auf Coffee Circle gestoßen. Die Firma aus Deutschland bietet Bio-Kaffee passend für die Kapsel-Maschinen an, die sogar noch günstiger und leckerer als das Original sind. Es gibt zwar nur 4 Sorten, die reichen aber gut aus. Meine Lieblingssorte ist Limu, schmeckt sehr aromatisch, ohne Milch und Zucker!So wie es sein soll 🙂Wir trinken den Kaffee auf Arbeit. Ich finde das sehr gut, da man dort für gewöhnlich mehr Kaffee trinkt als zu Hause. Und dann mit dem Gewissen, dass man hier was gutes unterstützt, schmeckt doch der Kaffee gleich noch besser, als er sowieso schon schmeckt. Und ich bin ein Kaffeetrinker mit Milch und Zucker. Hier kann ich auch mal eine Tasse ohne Milch und ohne Zucker trinken. Auch meinen Kolleginnen und Kollegen schmeckt der Kaffe durchweg.Wir haben den Espresso gekauft. Extrem lecker und sehr kräftig (so wie wir es mögen); sehr ergiebig. Mit gutem Gewissen super leckeren Kaffee trinken! Zudem hatte ich einen sehr netten Mailkontakt, in dem meine Fragen prompt und offen beantwortet wurden.Ich habe den fein gemahlenenen für zu Hause und den grob gemahlenen für den Handfilter im Büro. Dafür den höheren Preis in Kauf zu nehmen, halte ich für eine absolute menschliche Pflicht. Zahle ich ihn nicht, zahlen ihn andere – auf ungleich schlimmere Weise. Jetzt hatte ich nur die Befürchtung, dass er nicht so gut schmecken könnte. Aber das Gegenteil ist der Fall! Stark und sehr aromatisch, dabei aber gleichzeitig mild. Kurz: LECKER! Ich werde definitiv bei diesem Kaffee bleiben und Werbung dafür machen! Und dass er dann nicht nur fair ist, sondern für eine wirkliche Verbesserung im Land sorgt, macht ihn noch leckerer! 😉Mittlerweile beschenke ich nicht nur mich selbst sondern auch Freunde mit Kaffee von Coffee Circle. Sehr transparentes Unternehmen und da der Kaffee jedes Jahr ausgewählt wird, gibt es zwar keine riesige Auswahl, dafür umso bessere Qualität. Für Viel-Trinker gibt es ein Abo – alle paar Wochen kommt dann ein neues Paket Kaffee nach Hause. Sehr schöne Idee, wie ich finde.Ich bin sehr begeistert von diesem Kaffee und unterstütze gerne diese Kampagne. Kenne allerdings Ruanda und das Anbaugebiet sehr gut!!!! Ich kann es nur empfehlen!!!!!!Eine Möglichkeit Hilfe zur Selbsthilfe genußvoll zu unterstützen. Ob kalt oder heiß aufgesetzt/ aufgebrüht, sehr angenehm und lecker. Ich bestelle über <a href=\"http://www.kaffee-kooperative.de\" target=\"_blank\" rel=\"nofollow\">http://www.kaffee-kooperative.de</a> mit einem Abo. Sehr zuverlässig und für mich als GdB80 sehr hifreich.WIr haben schon immer Transfair-Kaffe getrunken, sind über Utopia auf die Cooperative gestoßen. Unser „1kg-Testpaket“ hat sich als positive Überraschung erwiesen: Schnelle Lieferung, guter Geschmack und offensichtlich noch mehr Gewinn für die Erzeuger. Also alles gut!Ein sehr gut schmeckender Kaffee aus dem Weltladen.@michael-struck: genauso wars bei uns – Also alles gut!Dieser Kaffee ist vollmundig und sehr bekömmlich. Außerdem ist diese Art der Unterstützung die einzig richtige. Es ist schändlich wenn bei herkömmlichem Kaffee die Importeure den ungerechtfertigten Gewinn machen und bei uns nur gilt Geiz ist geil. Weiter so.Der Kaffee ist köstlich, die Bestellung/Lieferung immer geschmeidig! Über den Newsletter erfahre ich von Entwicklungen in der Kooperative, sehe also, was Neues in Ruanda entsteht. Rundum gutFair getradeter GEPA-Kaffee bekommt mir sehr dank seiner schonenden Röstung und darüber hinaus kann ich sicher sein, dass möglichst viel an Ertrag beim Kaffeebauern direkt ankommt.sehr gutMeine Partnerin und ich geben diesem Kaffee gerne 5 Sterne. Er schmeckt hervorragend, ist super verträglich und… es gibt so eine schöne Werbung für Fairtrade: „Fairer Kaffee ist nicht bitter“ – zweideutig und STIMMT in beiderlei Hinsicht!Wir haben den GEPA Kaffee in der Arbeit, im Kaffeevollautomat. Er schmeckt sehr gut und man trinkt ihn obendrein mit gutem Gewissen. Empfehle ich absolut weiter!Dieser Bio Kaffee und vor allen Dingen der Espresso ist ein wahrer Genuss. Hier freut man sich schon auf die nächste Kaffeepause, einfach mal ausprobieren es lohnt sich….und der Kaffeeduft der durchs Haus strömt, wie in einem Kaffeehaus.Er schmeckt hervorragend, ist super verträglich und nicht bitterschmeckt lecker und so kann der tag beginnen,ein munter macher der besonderen art… die besondere Tasse am Nachmittag!Er schmeckt duftet einfach….so muss kaffeele schmeckenKaffee ist einer der wenigen Dinge die mich morgens zum aufstehen bewegen können. Mount Hagen Arabica Kaffee ganze Bohne hat mich dabei voll und ganz überzeugt. das Aroma ist toll, nicht verbrannt aber sehr wenig säure, das mag ich. Preislich liegt er in der unteren Mittelklasse vergleichbarer Kaffees. Das stört ihn aber in seiner Qualität kein bisschen. Ich kann ihn sehr empfehlen.Ich habe viele, viele fairtrade Kaffeepads durchprobiert, bis ich auf diese stieß, seitdem kaufe ich keine anderen mehr! Sie sind die einzigen mir bekannten, die einen etwas stärkeren Kaffee enthalten (also leicht kräftiges Aroma, kein Espresso). Dabei ist der Geschmack dennoch sehr ausgewogen mit wenig Säure und Bitterkeit. Der Preis ist im Vergleich zu anderen Markenkaffees durchaus akzeptabel.Ein sehr vollmundiger Kaffee. Der Geschmack ist sehr gut. Habe ich schon mehrfach gekauft und meiner Familie empfohlen. Bei einigen kam der Geschmack nicht so überzeugend rüber aber man kann ihn trinken sagte man mir. Ich werde noch andere Produkte probieren und mich von den Geschmack überzeugenIch muss sagen, dass mir der Kaffee von Mount Hagen sehr gut gefällt und deshalb nur weiterempfehlen kann. Bitte kaufen Sie diesen Kaffee anstelle von normalem Aldi-Kaffee kaufen. sie helfen Den armen Kindern in Afrika und Sie vollbringen eine moralische Wohltat. Natürlich kostet dieser Kaffee ein paar Cent mehr als Billig-Kaffee aber was tut das in unserem Zeitalter schon zur Sache?Meiner Meinung nach der mit Abstand beste Bio- und Fairtrage-Kaffee auf dem Markt. Abgesehen davon, dass er äußerst stilvoll und edel aussieht und nicht nur das typische EU-Biosiegel trägt, schmeckt er auch unheimlich lecker. Besser als „vollmundig, mild und säurearm, dennoch intensiv“ kann ich den Geschmack nicht beschreiben – da fehlen unserer Sprache einfach die Worte. Deshalb meine Empfehlung: einfach ausprobieren, es lohnt sich! 🙂Dieser Kaffee ist einer meiner Lieblings-Bio Kaffees. Gibt es auch als Granulat. Empfehle ich gern weiter. Schmeckt gut, vorallem Fairtrad und auch der Preis ist korrekt. Es gibt ihn in verschiedenen Sorten und auch in verschiedenen Größenabpackungen, so dass auch eine Singlehaushalt nicht so kurz kommt. Ich selber benutze eine Press-Maschiene.Wir trinken diesen Kaffe als Instant-Kaffee schon seit Jahren und sind mit dem Geschmack sehr zufrieden. Wenn wir diesen Kaffee Gästen anbieten, weil man nicht immer Zeit zum frisch Aufbrühen hat, sind die immer positiv überrascht. Er ist Bio, er ist Fair Trade und kommt aus Papua Neuguinea, das finden wir gut. Er hat eine Glas-Verpackung, leider einen Deckel aus Plastik, aber das lässt sich scheinbar anders schlecht machen.Ich trinke seit etwa anderthalb Jahren die Instantvariante dieses Herstellers mit Koffein und bin nach wie vor begeistert, wie unkompliziert und lecker Fairtrade sein kann. Ich würde ihn auch kaufen, wenn er noch teurer wäre. Daher also eigentlich sechs Sterne. 🙂Der Kaffee von Mount Hagen stammt aus der gleichnamigen Provinz in Papua Neuguinea. Daher trägt der Kaffee auch das Wappentier dieser Region. Wir kennen einen Großteil des Sortiments, von den Kaffeepads, über den Bohnenkaffee, Cappuccino, Espresso oder den Instant-Kaffee. Durchweg können wir sowohl über positive Kundenrückmeldungen als auch persönliche Erfahrungen berichten. Daher vergeben wir volle Punktzahl für den Mount Hagen Kaffee.Ich kaufe immer den gemahlenen Espresso (ich besitze leider keine Kaffeemühle) von Mount Hagen und bin seit der ersten Tasse vollkommen überzeugt. Zubereitet in einer italienischen Moka Express ist der Espresso sowohl pur als auch mit Milch ein Genuss. Das Aroma ist kräftig und sanft zugleich, ein wenig schokoladig und nicht bitter, alles in allem ein abgerundetes Geschmackserlebnis. Ein i-Tüpfelchen wäre natürlich noch eine nachhaltigere Verpackung, aber auch ohne diese vergebe ich 5 Sterne für diesen Kaffee.Sehr feiner mild gerösteter Kaffee,der auch wenig Säure hat und von uns daher sehr gut vertragen wird.Auch der Geschmack kommt nicht nur bei uns,sondern auch bei Gästen sehr gut an,wobei ich sagen muss,dass ich die ganzen Bohnen kaufe und immer passend mahle,daher wird auch das Aroma immer gelobt.Er ist in sehr vielen Supermärkten vorrätig,teilweise auch im Angebot,er hat aber auch ohne Angebot ein hervorragendes Preis-Leistungsverhältnis.Der Bio- und Fair Trade Kaffee von J.J.Darboven ist ein leckerer Kaffee, der nicht viel Säure enthält und gut verträglich ist. Da es den auch in Pad Form gibt, ist er eine gute Alternative im hektischen Alltag. Aufgrund der Tatsache, dass es sich hier um einen Bio-Kaffee mit Fair Trade Hintergrund handelt, macht das Kaffeetrinken auch kein schlechtes Gewissen, da bekannt ist, unter welchen Bedingungen andere Firmen ihren Kaffee herstellen lassen…Der Kaffee schmeckt sehr lecker, nicht zu stark und nicht zu mild.Ich trinke den Kaffee von Darboven Café Intención schon seit ich eine eigene Kaffeemaschine habe und bin begeistert. Der Kaffee schmeckt mild und ist doch nicht zu schwach, meiner Meinung nach der beste Kaffee, den ich je getrunken habe! Der Preis ist völlig in Ordnung und gerechtfertigt.Ein milder, fast angenehm „weicher“ Kaffee, dennoch mit einem sehr gutem Aroma – sehr selten in dieser Geschmackskomposition anzutreffen. Bei ökologischem Anbau ist das Preis-Leistungsverhätnis in meinen Augen sehr gut. Ich habe den Kaffee inzwischen mit Handaufguss Methode, mit Braun Kaffeemaschine, mit Pads für Senseo Maschine, im Espressokocher von Bialetti und in der Jura Espressomaschine getestet – Fazit: Alle gängigen Zubereitungsarten geben diesen Kaffee hervorragend wieder.Der Kaffee von J.J.Darboven ist sehr aromatisch ,kräftig und geschmackvoll.Ich bevorzuge den ganze Bohne,er entfaltet beim mahlen sein ganzes Aroma. Gutes Preis-Leistungsverhältnis und aus fairem Handel .Voll und ganz empfehlenswertWunderbar aromatisch und dabei sehr ergiebig.Fair, bio und geschmacklich auch passabel, finde ich (Geschmack ist natürlich Geschmackssache, die beste fair + bio Sorte ist es für mich persönlich (aber) nicht – z.B. schmeckt mir die milde Variante von Café Cubíta von El Puente und eine milde gepa Sorte aus Mexiko deutlich besser)Sehr gutes Preis/Leistungsverhältnis und die Röstung ist ideal für meinen Magen. Leicht bekömmlich und dennoch aromatisch. Ich zahle gerne mehr für Fairtrade, dabei ist der J.J.Darboven Café Intención wirklich nicht teuer!Ich benutze diesen Kaffee schon seit Jahren als ganze Bohne im Kaffeevollautomat. Er hat ein kräftiges Aroma und ist nicht sauer oder bitter dabei. Man kann ihn daher auch sehr gut „schwarz“ trinken. Der Preis von ca. 16 Euro pro Kilo ist auch unschlagbar.Ich liebe diesen Kaffee.Er hat ein wunderbares Aroma.ein wunderbarer fairer Bio-Kaffee zum Morgen. Die Biomischung „Organico“ sagt mir dabei am meisten zu: nicht zu herb ein schöner runder Kaffegeschmack und dennoch ist man anschließend topfitt für den Tag. Schade dass Kaffee kein regionales Produkt ist.Habe oft Gepa Kaffee gekauft, ich liebe es.Fünf Sterne gibt es, weil die GEPA eine tolle, vielfältige Kaffee-Auswahl bietet, da ist für jeden das Richtige dabei. Die Kaffeebohnen werden schonend langzeitgeröstet, dadurch schmeckt der Kaffee sehr aromatisch. Vor allem der Organico ist sehr zu empfehlen. Hier kann man sich darauf verlassen, dass auch fair drin ist, wo fair drauf steht. Schön, dass die GEPA Kleinbauern und ihren Familien die Lebensgrundlage sichert!Morgens nach dem aufstehen diesen Kaffee zu riechen ist das Beste am ganzen Tag. Ich kann ihn nur weiterempfehlen.Der Gepa Kaffee hat mich voll überzeugt. Er schmeckt sehr gut und hat ein tolles Aroma. Außerdem ist er ein fair gehandeltes Produkt.Die GEPA Kaffee´s erfüllen allen meine Kriterien. Bio, die Ansprüche der Firma liegen über dem Mindeststandard von Fairtradeprodukten und natürlich der vollmundige, aromatische Geschmack mit gut balancierter Säure. Der Organico ist bei uns nicht miehr wegzudenken, doch auch der Espresso und der Guatemaler überzeugen. Kaffee ist für mich ein absoluter Genuss und ich stehe lieber 10 Minuten früher auf und genieße, anstatt in aller Eile eine braune Brühe in mich zu schütten…Ein super leckerer Kaffee, den man voll und ganz mit Gutem Gewissen trinken und genießen kann, weil man weiß, dass die Kaffee Bohnen fair gehandelt worden sind.Der Italienische Bio Espresso von GEPA verführt den Genießer in die sinnliche Welt Italiens. Seinen Namen trägt dieser Espresso zurecht. Beim öffnen der Packung empfängt man wohlwollend den köstlichen Duft der nach alter Tradition gerösteten Arabica-Bohne. Die exzellente Crema, die ich daraus zubereiten konnte, hat ein herb-würziges Aroma und veredelt mit seiner geschmacklichen Eleganz nachhaltig die Gaumenfreude. Selbst ohne Zucker oder Milch schmeckt der Espresso sehr gut und hat keinen bitteren Nachgeschmack.GEPA garantiert für den Fair Trade Handel und dies ist ein weiteres Plus für dieses hochwertige Produkt. Mich hat dieser Espresso überzeugt und somit kreiere ich mir damit allmögliche Kaffeespezialitäten. Die von mir vergebenen fünf Sterne verstehe ich als ein kleines Dankeschön an all jene, die an der Herstellung und Produktion des Italienischen Bio Espresso beteiligt sind.Auch wenn der GEPA Kaffee seinen Preis hat, ist er das auf jeden Fall auch wert. Besonders gut finde ich, dass man zwischen verschiedenen Spezialitäten auswählen kann. Auch die kleinere Abpackung ist sehr gut und unterstützt auch den Eindruck eines wertigen Produktes und dass es sich um ein Genussmittel handelt.der beste Espresso auf der Welt! Stark aber nicht bitter.zur Zeit trink ich GEPA Espresso Cargado, weil er hat 5 schwarze Bohnen auf der Geschmacksscale hat. jede dieser Bohnen hat er verdient, ein wirkliches „verwöhnaroma“ !!teurer als der massenkaffee? im Einkauf ja, in der Benutzung nein!!früher trank ich Masse in Massen, heute Klasse mit Genuss … ;-))Gepa Kaffee ist für mich der einzig wirklich faire Kaffee. Gepa legt großen Wert darauf, dass Kleinbauern unterstützt werden und keine großen Plantagen. Deshalb gibt es eine Hektar-Begrenzung um überhaupt für Gepa produzieren zu können. Die Kleinbauern werden unterstützt, gefördert und bekommen regelmäßig Bonuszahlungen damit sie ihre Kinder zur Schule schicken können usw. Andere Kaffee-Sorten sind auch Fairtrade-zertifiziert, arbeiten aber durchaus auch mit großen Plantagen zusammen. Die Gepa tut das nicht. Und der Kaffee schmeckt natürlich hervorragend! 🙂Seit vielen Jahren kaufen wir GEPA-Kaffee – wenn man „seine“ Sorte gefunden hat, ist der Genuss absolut ungetrübt – mit DEM Hintergrund an fairem Handel!Ich kaufe gerne die Gepa-Kaffees, denn da habe ich eine nette Auswahl an verschiedenen Kaffees und es macht Spaß damit zu experimentieren. Allerdings hat das Besondere seinen Preis, weshalb diese Kaffees meine Sonn- und Feiertagsmischungen sind.Hallo zusammen, Gepa hat seit einer gewissenzeit ein eigenen sogenannten fair+ siegel rausgebracht. Dabei handelt es sich um eine ich nenne es “ strengere “ kriterien für einen fairen handel. Mehr Geld pro fund, unterstützung für Bauer bei auf Bio Anbau Umstellung ect. Ihr könnt euch auf gepa.de mehr informationen holen was das angeht. Gepa bleibt, und das zurecht Top 1 unte den Kaffee verkäufern die auf Biologische, Ökologische, Nachhaltigekeit und fairem handel wert legen. Und der Kaffee schmeckt auch gut, vorallem wenn mann die Bohnen selbst frisch mahlt !Seit Jahrzehnten mein Lieblingskaffee, wird immer besser und bekömmlicher. eignet sich sowohl für Filterung wie für Kaffeebereiter. Gibt es auch ohne Koffein, schmeckt genauso gut.… im fairen Handel weist GEPA auf.Und vom Geschmack her dürfte wohl für jede Zunge etwas im Sortiment sein …Als häufige Italien-Reisende und auch-schon-mal-länger-dort-gelebt-habende sind meine Ansprüche an Espresso hoch. Jetzt kann man natürlich alle großen italienischen Kaffeemarken auch in Deutschland kaufen, aber die sind dann weder Bio noch fair. Der gepa Italienischer Bio Espresso erfüllt diese Kriterien und steht geschmacklich Lavazza &amp; Co wirklich in nichts nach!Seit ich meinen Lieblingskaffee von GEPA gefunden habe (Guatemala pur) genieße ich ihn jeden Morgen und möchte keinen anderen mehr trinken. Er ist zwar teuer und ich bin alles andere als reich, aber er ist fair und bio, super lecker und verträglich, und ich trinke halt eher wenig.Ich kann nur hoffen, dass es ihn auch weiterhin geben wird…Vom Geschmack einfach der beste. Rund, harmonisch, hier stimmt die Mischung.das kompltte sortiment bei mount hagen ist bio und fair trade zertifiziert, die landkaffees gibt es in demeterqualität. und das beste: gerade die espressi ist großartig. schokoladig, ganz weich und aromatisch. sehr, sehr lecker. darum: maximal sterne.Ausgewogenes Aroma, schön kräftig im Geschmack ohne bitter zu sein.Ich mag diesen Kaffee sehr. Man schmeckt den Unterschied zu den handelsüblichen Discounter-Kaffees total. Sowohl der Instant-Kaffee als auch der Espresso und Röstkaffee schmecken vorzüglich und sind dabei auch sehr bekömmlich. Der Instant-Kaffee schmeckt mir übrigens supergut, obwohl ich sonst keine Instant-Kaffees mag.Ich kenne nur den Espresso. Er läßt sich sehr gut fein mahlen. Der Duft ist sehr angenehm kräftig. Der fertige Espresso hat mir jedoch zu viel Säure und daher kann ich ihn nur sehr „dünn“ trinken, dafür fehlt ihm dann natürlich wieder Aroma. Sehr gut geht er als arabischer Kaffe mit Kardamom Koriander und Zimt, da kommt genügend Aroma über die Gewürze und die Säure wird überdeckt.… und fair gehandelt auch noch Genuss ohne schlechtes GewissenIch finde es toll, dass es mittlerweile viele Fair Trade Produkte zu kaufen gibt. Den Kaffee hatte ich auch schon und er hat uns sehr gut geschmeckthabe ihn erst vor kurzem getrunken und war überrascht, wie gut er schmeckt. Auch mein Besuch hat er geschmeckt, Genussvoll und nicht bitter auch wenn er stark istvon dieser marke schmeckt der entcoffeinierte espresso sehr ähnlich wie der mit coffein. allerdings habe ich noch keine ganzen bohnen davon gefunden, da frisch gemahlener kaffee einfach noch ein stück aromatischer schmeckt als bereits gemahlenernicht nur BIO und Fair Trade, der schmeckt sogar richtig gut!Der Kaffee wird sorgfältig angebaut daher greife ich immer wieder gern zu Fairtrade Sorten. Exzellent im Geschmack ein schöner dunkler kräftiger Kaffee perfekt für Kaffeeautomaten. Ich verwende ihn auch gern für Ice-Kaffee. Der Kaffee ist vollmundig, ausgewogen und harmonisch. Schön das er immer mehr die Supermarkt Regale erobert. Den Preis von ca. 4,99-5,99€ finde ich sehr angemessen.ein Kaffee der voll und ganz meinen Geschmack trifft. Besonders zum Frühstück mögen wir ihn gerne.Der Kaffee ist vollmundig,schmeckt gut.Ich bin gern bereit einen höheren Preis dafür zu zahlen.Kaffee ist wirklich Geschmackssache! Ich habe J.J. D.-Café Intención ecológico zum ersten Mal im Urlaub auf Langeoog genossen und er schmeckt mir immer noch von allen fairtrade-Kaffees am besten. Im Vergleich zu anderen ist er für mich preislich akzeptabel und wurde auch von der Stiftung Warentest als „gut“ befunden. Deshalb 5 Sterne.sehr gut und preiswert für fairtrade und bio. Ob als Filterkaffee oder Pads für die Senseomaschine, sehr empfehlenswert!Preislich nicht zu unterbieten und dafür gibts tollen runden Kaffeegeschmack, nicht sauer und auch stark gebrüht noch toll genießbar. Schmeckt mit Kuh- oder Sojamilch und schmeckte bisher auch nicht verbrannt, im konventionellen Supermarkt erhältlich, fünf Euro und erfüllt die relevanten Auflagen. Kann ich wärmstens empfehlen, wenn fair und bio wichtig, aber der Geldbeutel immer knapp ist.Die Café Intención pads sind für mich die besten fair trade pads, die ich bisher gefunden habe. Vollmundig und kräftig im Geschmack, wie ich es mag, aber nicht bitter und für mich gut verträglich. Und auch nach einigen Tagen in der Dose (einen Teil behalte ich immer im Kühlschrank, den anderen in der Kaffeedose) noch frisch und gut geniessbar. Und nicht ganz unwichtig: der Preis ist auch fair…Darbovens kaffe ist bekannt, schmeckt , gibts auch koffeinfrei und das Fair-Trade-Siegel ist keine Pseudo-EigenkreationIch kaufe immer die Kaffee-Pads von Intencion. Der Kaffee schmeckt sehr lecker und das Preis-Leistungsverhältnis stimmt meiner Meinung nach auch. Ich kann diesen Kaffee jedem guten Gewissens empfehlen.Seit mehreren Jahren ist der J.J.Darboven Café Intención mein absoluter Favorit. ich als Kaffee-Junkie trinke regelmäßig und viel Kaffe und lege dabei Wert auf: – Geschmack – ökologischer Anbau – Fair Trade – bezahlbarer Preis – VerfügbarkeitDer J.J.Darboven Café Intención überzeugt bei allen Kriterien und wird von mir aufgrund des fairen Preis/Leistungsverhältnises auch zukünftig gekauft.Geschmacklich ist der J.J.Darboven Café Intención mild-aromatisch, harmonisch-rund und das Fair-Trade Siegel gibt dem Aroma einen tollen Beigeschmack!Sehr zu empfehlen!sehr leckerer Espresso mit toller Crema und mild würzigem Geschmack wir haben einen Kaffeevollautomaten un dder Espresso sowei der Cappuccino und auch Latte macchiato schmecken mit diesem Kaffe SUPER! Preis Leistungverhältnis stimmt auch!Ich trinke aus vier Gründen ausschließlich Kaffee von GEPA: 1. Der Kaffee ist fair gehandelt. 2. Die Auswahl an verschiedenen Sorten und Stärken ist umfangreich. 3. Die Sorten sind tatsächlich geschmacklich gut voneinander zu unterscheiden, was ein Hinweis auf eine gute Qualität ist. 4. Bisher hat mir jede Sorte geschmeckt! Also wer gerne Kaffee trinkt, tut sich und den Kaffeebauern mit einem Kauf was gutes!Als ich den Kaffee zum ersten Mal gekauft habe, war ich skeptisch, da ich eigentlich meine „feste“ Kaffeemarke habe. Doch als ich ihn dann getrunken habe, musste ich überraschenderweise feststellen, dass er ein unvergleichliches Aroma hat. Sicher er schmeckt anders wie „mein“ sonst getrunkener Kaffee, aber dennoch wirklich gut. Die Verpackung fand ich auch sehr ansprechend und auch wenn er etwas teuer ist, ist mir der Geschmack und insbesondere der Fair-Trade-Gedanke dahinter, den Preis mehr als wert. Ich vergeben daher fünf von fünf Punkten.Es ist ein sehr guter Kaffee, perfekt für meinen GeschmackDieser Kaffee macht Lust auf mehr. Schon beim öffnen der Tüte steigen dem Kaffeegenießer die kräftigen Aromen in die Nase. Bei den einzelnen Sorten handelt es sich um Kaffee der Spitzenklasse. Schon nach einer Tasse am Morgen hat man das Gefühl, eine gute Tat vollbracht zu haben. Nicht nur für sich selbst, sondern auch für die vielen Kaffeebauern, die durch meinen Kaffeekonsum fair bezahlt werden und sozial abgesichert sind. Ein wahnsinnig tolles Projekt!Ich mag vor alem den Espresso von GEPA. Er ist kräftig, leicht nussig und schmeckt sehr gut. Und dabei kann man auch noch ein gutes Gewissen haben, denn er ist fair gehandelt und biologisch.Ich habe selten einen so aromatischen und vollmundigen Kaffee getrunken. Ob als Espresso oder leckerer Latte Macchiato, es ist immer wieder ein Genuss. Sehr, sehr lecker und absolut zu empfehlen.Für mich als Laien kann ich sagen, dass der Espresso richtig gut ist und nicht allzu teuer.Ein ausgezeichneter Cafe für jeden Tag, der sich gut für Zubereitung von Kaffee-Milch-Getränken eignet.Wenn man den Kaffee mit einem „Kaffeedrücker“ nach französischer Art macht, ist er halbwegs ok – 3 Sterne. Geb ich ihn jedoch in die Kaffeemaschine, die nach Espresso Art zubereitet, dann ist er leider sehr fade (1 Stern). Kommt wohl auf die Zubereitungsart an. (3+1):2=2 Sterne. (Dazu ist zu sagen: wenn wir Bohnen haben, mahlen wir selbst und stellen den Mahlgrad auf die Zubereitungsart ein. Daher sollte also der Unterschied nicht herrühren.)GEPA ein ‚ur’alt bewährtes vielseitiges Produktsortiment. Egal welchen Café wir möchten, es gibt ihn und er schmeckt einfach lecker. Danke für Ihre Vorreiterrolle!!!!!Wir haben die Bohnen im Büro und ich die Pads zu Hause. Alle, denen ich bei mir einen Kaffee anbiete sind begeister – mich inklusive 🙂Gechmacklich die Standard-Kaffeebohne. Sollte nicht zu stark getrunken werden, dann wird er fade.Kaufte schon meine Oma und ist nach wie vor von uns Generationen übernommen,der BESTE für uns überhaupt*****Fair, bio und schmeckt gut! Und der Preis ist dafür wirklich günstig.Der Geschmack ist einmalig, es kommt das Röstaroma so richtig durch und man will mehr.sehr leckerer kaffee in ganzen Bohnen ,dieser Kaffee ist ideal für die Zubereitung in Kaffee-Vollautomaten.nicht gerade günstig aber es lohnt sich 🙂Der J.J. Sarboven Cafe intencion schmeckt uns allen sehr gut! Volles Aroma…..sehr guter Geschmack! Absolut empfehlenswert!Der Kaffee schmeckt ausgewogen. Er hat wenig Säure und eine leichte Kakaonote. Allerdings habe ich den Eindruck, dass die Qualität schwankt und er nicht immer so gut schmeckt.Fairtrade Kaffee ist oft eine Herausforderung – entweder man bekommt ihn nur in speziellen Läden, oder er ist sehr teuer, oder er ist mir zu herb. Der J.J.Darboven Cafè Intención ist mittlerweile in fast jedem Supermarkt zu Hause, er schmeckt mild und hat trotzdem vollen Geschmack.da wir fleißige Kaffeetrinker sind haben wir schon viele Kaffeesorten ausprobiert aber der GEPA Kaffee schmeckt wunderbar. Man merkt dass GEPA viel Erfahrung mit Kaffee hat und weil uns Fair Trade sehr wichtig ist, werden wir bei diesem Kaffee bleiben.Kaffee zu lange geröstet, hohe Acrylamidwerte, zu viel säure zu wenig koffein. Liefer probleme ständig.Kaufe nur noch Fair Trade Kaffee, von den unterschiedlichsten Anbietern. Von GEPA habe ich Espresso und den Decaf-Kaffee ausprobiert. Könnten nach meinem Geschmack ruhig etwas dunkler geröstet und weniger sauer sein. Ansonsten recht gut im Geschmack. Auch gut, dass man GEPA in normalen Supermärkten und sogar bei manchen Discountern (Kaufland) erhalten kann. Nicht immer ist ein Bioladen in erreichbarer Nähe.Ich habe die ganze EspressoBohne getestet und war von der Kraft im Geschmack und Wirkung positiv überrascht!Der Gepa Kaffee ist einer der besten Kaffees die ich bisher getrunken habe – vollmundig und würzig im Geschmack – gerne wieder 🙂ich trinke GEPA Italienischen Bio Expresso schon sehr lange, und vertrage ihn sehr gut, trotz meines empfindlichen Magens.„Grobporiger Schaum, riecht und schmeckt deutlich malzig, stärker angebrannt und schwächer milchig.“In der Firma in der ich vor meinem Studium gearbeitet habe, hatten wir ausschließlich GEPA Kaffee für Besucher als auch für die Angestellten. Ich kann nichts negatives über GEPA Kaffee äußern, im Gegenteil: ich fand es sehr angenehm, dass GEPA auch andere Produkte wie Kekse und Tee zum Testen geschickt hat welche auch nur zu empfehlen sind! Vollmundig und belebend 🙂Ich trinke den Gepa-Kaffee super gerne, denn er ist schön mild und trotzdem kräftig im Geschmack. Außerdem kann man ihn, etwas stärker gekocht, auch super als Milchkaffeetrinken ohne dass er so fad im Geschmack ist. Durch die Milde macht er selbst nach ein paar Tassen mehr kein Sodbrennen, Daumen hoch!!Seit Jahren kaufe ich (nachdem ich Kaffee nur noch bio und fair kaufe/trinke) den Kaffee von Gepa, sowohl gemahlen als auch ganze Bohne. Bisher war ich immer sehr zufrieden, die getesteten Sorten sind vollmundig, verträglich und vor allem fair. Egal ob gerade frisch gemahlen, aus dem Vollautomaten, der Presskanne oder einfach durch die Filtertüte, ich habe meine „beanstandungsfreie“ Sorte (Mount Elgon) gefunden.Gepa bietet für fast jeden Geschmack die entsprechende Sorte, gestützt auf nachhaltiger Firmenphilosophie. Die Verpackungen haben einen hohen Wiedererkenungswert und strahlen etwas anmutiges aus – so gehört ein Produkt wie Kaffee behandelt und an den Verbraucher gebracht.Ich freue mich über diese (und auf entsprechenden Messen neuvorgestellte) Kaffeeraritäten und hoffe, dass der Genuss nicht nur ein Plus in meinem, sondern auch im Alltag und Einkommen der Arbeiter bedeutet.Daher fünf Sterne und meine uneingeschränkte EmpfehlungIch liebe den Espresso von GEPA auch der entkoffinierte ist regelmässig in meiner Einkaufstasche hier stimmt der Preis und ich bin überzeugt dass die Euros da ankommen wie sie es sagen. Das ist der Vorteil einer großesn Organsation. Gerade auch der Vertrieb durch die EIne Welt Läden ist unterstützenswert !Da ich schon viele fairtrade Bio Kaffees getestet hab, find ich persönlich die gepa Kaffees die besten, insbesondere der Espresso.ich vertraue der marke gepa einfach am meisten, was den fairtrade-status betrifft, deshalb schmeckt er mir am besten. zudem stimmt das preis-leistungsverhältnis. günstiger darf kaffee nicht seinBei diesem Kaffee schmeckt man das Aroma viel intensiver als bei anderen Produktenich finde diesen Kaffee überaus aromatisch. Und ich genieße ihn mit gutem GewissenIch kaufe seit einiger Zeit nur noch den Kaffee von GEPA, da ich diesen geschmacklich sehr gute finde und vor allem sehr aromatisch.GEPA ist absolut bester Fairtradekaffee dazu noch biologisch. Uns schmeckt er sehr gut ob als Espresso, Cappuchino oder Filterkaffee. Wir kaufen sehr gerne auch andere GEPA Produkte wie Tee, Kakao und Schokolade weil wir hierfür fairtrade sehr wichtig finden und GEPA eine gute Auswahl an allen Produkten hat.Gepa macht noch kaffe der auch wirklich fair ist ! im gegensatz zum Fair trade Siegel von „MaxHavelar“, was wirklich schade ist. Aber Gepa hält was es verspricht und schmeckt unglaublich gut ! 🙂Geschmacklich ausgezeichnet – wir lieben vor allem die Mischung Organico.Meine Siebträgermaschine macht aus diesem Pulver mit feinem Mahlgrad unter entsprechend hohem Druck einen Espresso über dessen Crema man „gehen“ kann 😉 Wir erhalten diesen GEPA-Espresso in unserem regionalen Markt.War bisher immer gut, diverse Kaffees, ob Bohne oder schon gemahlen. 5 Sterne kann ich nur für spezielle Kaffeeröstereien vergeben, z.B. wenn man mal bei Dallmayr o.ä. war.Ich kaufe ihn im hiesigen WELTLADEN und bin begeistert. Der Geschmack und die Firmenphilosophie ist überzeugend und ich möchte keinen herkömmlichen Kaffee, der nicht fair traide gehandelt wird mehr in meiner Tasse haben!Ich habe bis jetzt noch nicht viele Fair Trade Kaffees probiert, bei diesem fand ich das Verhältnis von Preis und Leistung aber voll in Ordnung. Der Genuss steht nichts nach, doch Sie beuten mit diesem Kaffee nicht aus, mir persönlich schmeckts dann nochmal so gut.Mein Standardkaffee für jeden Tag ist der Cafe Organico, ganze Bohne von Gepa. Allein der Duft, einer frisch aufgebrühten Tasse lässt Gemütlichkeit aufkommen und weckt die Lebensgeister. Der Kaffee ist relativ mild und magenfreundlich und hat ein tolles, ausgewogenes Aroma, welches (fast) jeden Kaffeetrinker ansprechen dürfte. Meiner Meinung nach absolut empfehlenswert!super Kaffee. Himalaya ist unsere Lieblingssorte geworden.Na klar, GEPA bietet unter seinem Siegel Produkte des „guten Gewissens“ an – hier konsumiert man, was unter fairen Bedingungen hergestellt wurde. „Fair“ heißt in diesem Fall, dass kleine Kooperativen und landwirtschaftliche Unternehmen in den Ursprungsländern des Kaffees gefördert werden, dass der Lohn Mindeststandards nicht unterschreitet und dass häufig Gewerkschaftsbewegungen durch die GEPA gefördert werden ebenso wie das Einhalten anderer sozialer Standards eine wichtige Rolle spielt. Kurz und knapp: mehr Geld von dem von uns als Konsumenten bezahlten Preis geht zu den tatsächlichen Produzenten der Ware, die zudem unter menschenwürdigen Bedingungen arbeiten können. Außerdem: der Kaffee schmmmmeckt – kräftig und aromatisch. Bestimmte, sehr fein gemahlene Sorten eignen sich nicht zur Verwendung in Kaffeeautomaten, das kann man jedoch an der Packung gut erkennen.Ich bevorzuge Gepa Kaffee, da er FairTrade produziert ist. Auch in Punkto Genuss bietet Gepa mir als Kaffeeliebhaber alle, was ich mir wünschen kann. Viele geschmackvolle Sorten. Die Raritäten-Sorten laden mich zum Ausprobieren ein, z.B. Kilimanjaro schmeckt mir ganz ausgezeichnet. Hier kann man mit gutem Gewissen genießen!!Kaffee genießen mit gutem Gefühl: besonders zu empfehlen ist der italienische Espresso- mit dem intensiven Aroma kann er in Italien nicht besser schmecken. Und trotz fairer Bezahlung der Kaffeebauern hält sich der Preis für den Konsumenten doch noch verhältnismäßig gering.Ich habe einen magenfreundlichen, aber koffeinhaltigen Kaffee von Gepa probiert und kann sagen, dass er sehr gut schmeckt und auch von magensensiblen Menschen vertragen wird.Bei Gepa unterstützt man bei jedem Kauf ein wertvolles Anbauprojekt und schafft Arbeitsplätze mit fairer BezahlungSchon lange gehört Kaffee von Gepa zum festen Bestandteil meines Warenkorbes und ich bin noch nie enttäuscht worden. Der Kaffee hatte immer eine super Qualität und gerade bei Kaffee ist es nicht nur wichtig sondern auch sehr gut möglich, sich auf fair gehandelten zu reduzieren.'"
      ]
     },
     "execution_count": 39,
     "metadata": {},
     "output_type": "execute_result"
    }
   ],
   "source": [
    "kaffee_reviews_as_one_string = ''.join(kaffee_reviews_to_list)\n",
    "kaffee_reviews_as_one_string"
   ]
  },
  {
   "cell_type": "code",
   "execution_count": 40,
   "id": "8ca64530",
   "metadata": {},
   "outputs": [
    {
     "data": {
      "text/plain": [
       "<matplotlib.image.AxesImage at 0x1fd353eb520>"
      ]
     },
     "execution_count": 40,
     "metadata": {},
     "output_type": "execute_result"
    },
    {
     "data": {
      "image/png": "[encoded data removed]",
      "text/plain": [
       "<Figure size 4000x4000 with 1 Axes>"
      ]
     },
     "metadata": {},
     "output_type": "display_data"
    }
   ],
   "source": [
    "#plotting word cloud for positive reviews\n",
    "from wordcloud import WordCloud\n",
    "\n",
    "plt.figure(figsize=(40,40))\n",
    "plt.imshow(WordCloud().generate(kaffee_reviews_as_one_string))"
   ]
  },
  {
   "cell_type": "code",
   "execution_count": 42,
   "id": "52a28bec",
   "metadata": {
    "scrolled": true
   },
   "outputs": [
    {
     "data": {
      "text/html": [
       "<div>\n",
       "<style scoped>\n",
       "    .dataframe tbody tr th:only-of-type {\n",
       "        vertical-align: middle;\n",
       "    }\n",
       "\n",
       "    .dataframe tbody tr th {\n",
       "        vertical-align: top;\n",
       "    }\n",
       "\n",
       "    .dataframe thead th {\n",
       "        text-align: right;\n",
       "    }\n",
       "</style>\n",
       "<table border=\"1\" class=\"dataframe\">\n",
       "  <thead>\n",
       "    <tr style=\"text-align: right;\">\n",
       "      <th></th>\n",
       "      <th>rating</th>\n",
       "      <th>review</th>\n",
       "      <th>sentiment</th>\n",
       "      <th>length</th>\n",
       "    </tr>\n",
       "  </thead>\n",
       "  <tbody>\n",
       "    <tr>\n",
       "      <th>28</th>\n",
       "      <td>1</td>\n",
       "      <td>Da es unsere Sorte grad nicht gab, haben wir d...</td>\n",
       "      <td>negative</td>\n",
       "      <td>255</td>\n",
       "    </tr>\n",
       "    <tr>\n",
       "      <th>29</th>\n",
       "      <td>1</td>\n",
       "      <td>Dafür, dass der Kaffee laut Fernsehwerbung ext...</td>\n",
       "      <td>negative</td>\n",
       "      <td>501</td>\n",
       "    </tr>\n",
       "    <tr>\n",
       "      <th>36</th>\n",
       "      <td>1</td>\n",
       "      <td>Ich nutze von REWE Bio Röstkaffee Fairtrade di...</td>\n",
       "      <td>negative</td>\n",
       "      <td>340</td>\n",
       "    </tr>\n",
       "    <tr>\n",
       "      <th>37</th>\n",
       "      <td>1</td>\n",
       "      <td>Naturland von Rewe</td>\n",
       "      <td>negative</td>\n",
       "      <td>18</td>\n",
       "    </tr>\n",
       "    <tr>\n",
       "      <th>38</th>\n",
       "      <td>1</td>\n",
       "      <td>Naturland gibt auf ihrer Internetseite an, das...</td>\n",
       "      <td>negative</td>\n",
       "      <td>359</td>\n",
       "    </tr>\n",
       "    <tr>\n",
       "      <th>42</th>\n",
       "      <td>1</td>\n",
       "      <td>Fairtrade Logo = Armut light &amp;amp; keine Trans...</td>\n",
       "      <td>negative</td>\n",
       "      <td>52</td>\n",
       "    </tr>\n",
       "    <tr>\n",
       "      <th>43</th>\n",
       "      <td>1</td>\n",
       "      <td>Kaffeebörse in Nairobi: Für Fairtrade Kaffee g...</td>\n",
       "      <td>negative</td>\n",
       "      <td>540</td>\n",
       "    </tr>\n",
       "    <tr>\n",
       "      <th>44</th>\n",
       "      <td>1</td>\n",
       "      <td>siehe dazu in Zeit-Online Fairtrade: Wenn Kaff...</td>\n",
       "      <td>negative</td>\n",
       "      <td>98</td>\n",
       "    </tr>\n",
       "    <tr>\n",
       "      <th>56</th>\n",
       "      <td>1</td>\n",
       "      <td>geschmacklich: 3 Sterne optisch: 3 Sterne Prei...</td>\n",
       "      <td>negative</td>\n",
       "      <td>77</td>\n",
       "    </tr>\n",
       "    <tr>\n",
       "      <th>57</th>\n",
       "      <td>1</td>\n",
       "      <td>Nahezu ungenießbar – gibt es bei Rewe eine Qua...</td>\n",
       "      <td>negative</td>\n",
       "      <td>265</td>\n",
       "    </tr>\n",
       "    <tr>\n",
       "      <th>58</th>\n",
       "      <td>1</td>\n",
       "      <td>diesen Kaffee kann man nicht trinken, das so w...</td>\n",
       "      <td>negative</td>\n",
       "      <td>269</td>\n",
       "    </tr>\n",
       "    <tr>\n",
       "      <th>68</th>\n",
       "      <td>1</td>\n",
       "      <td>Frisch von Hand aufgebrüht schmeckt dieser Kaf...</td>\n",
       "      <td>negative</td>\n",
       "      <td>436</td>\n",
       "    </tr>\n",
       "    <tr>\n",
       "      <th>69</th>\n",
       "      <td>1</td>\n",
       "      <td>Wer kräftigem Kaffee mag, ist hier genau richt...</td>\n",
       "      <td>negative</td>\n",
       "      <td>127</td>\n",
       "    </tr>\n",
       "    <tr>\n",
       "      <th>75</th>\n",
       "      <td>1</td>\n",
       "      <td>…denn auf der Website wird ausführlich erläute...</td>\n",
       "      <td>negative</td>\n",
       "      <td>726</td>\n",
       "    </tr>\n",
       "    <tr>\n",
       "      <th>76</th>\n",
       "      <td>1</td>\n",
       "      <td>Ich habe meine Bestellung leider nicht erhalte...</td>\n",
       "      <td>negative</td>\n",
       "      <td>809</td>\n",
       "    </tr>\n",
       "    <tr>\n",
       "      <th>77</th>\n",
       "      <td>1</td>\n",
       "      <td>Ich hatte ähnliche Erfahrungen wie NicoH. Imme...</td>\n",
       "      <td>negative</td>\n",
       "      <td>332</td>\n",
       "    </tr>\n",
       "    <tr>\n",
       "      <th>78</th>\n",
       "      <td>1</td>\n",
       "      <td>Der Tchibo Bio Kaffee schmeckt aromatisch gut ...</td>\n",
       "      <td>negative</td>\n",
       "      <td>231</td>\n",
       "    </tr>\n",
       "    <tr>\n",
       "      <th>87</th>\n",
       "      <td>1</td>\n",
       "      <td>Wir haben für unseren Vollautomaten wirklich l...</td>\n",
       "      <td>negative</td>\n",
       "      <td>411</td>\n",
       "    </tr>\n",
       "    <tr>\n",
       "      <th>99</th>\n",
       "      <td>1</td>\n",
       "      <td>Der Kaffee ist große Klasse, da gibt es nachwi...</td>\n",
       "      <td>negative</td>\n",
       "      <td>252</td>\n",
       "    </tr>\n",
       "    <tr>\n",
       "      <th>100</th>\n",
       "      <td>1</td>\n",
       "      <td>Ich kehre seit Jahren nach Ausflügen zu andere...</td>\n",
       "      <td>negative</td>\n",
       "      <td>307</td>\n",
       "    </tr>\n",
       "    <tr>\n",
       "      <th>101</th>\n",
       "      <td>1</td>\n",
       "      <td>Bereits seit sechs Jahren beginne ich den Tag ...</td>\n",
       "      <td>negative</td>\n",
       "      <td>285</td>\n",
       "    </tr>\n",
       "    <tr>\n",
       "      <th>102</th>\n",
       "      <td>1</td>\n",
       "      <td>Aus einigen Testberichten verschiedener Intern...</td>\n",
       "      <td>negative</td>\n",
       "      <td>381</td>\n",
       "    </tr>\n",
       "    <tr>\n",
       "      <th>238</th>\n",
       "      <td>1</td>\n",
       "      <td>Dafür, dass der Kaffee laut Fernsehwerbung ext...</td>\n",
       "      <td>negative</td>\n",
       "      <td>501</td>\n",
       "    </tr>\n",
       "  </tbody>\n",
       "</table>\n",
       "</div>"
      ],
      "text/plain": [
       "     rating                                             review sentiment  \\\n",
       "28        1  Da es unsere Sorte grad nicht gab, haben wir d...  negative   \n",
       "29        1  Dafür, dass der Kaffee laut Fernsehwerbung ext...  negative   \n",
       "36        1  Ich nutze von REWE Bio Röstkaffee Fairtrade di...  negative   \n",
       "37        1                                 Naturland von Rewe  negative   \n",
       "38        1  Naturland gibt auf ihrer Internetseite an, das...  negative   \n",
       "42        1  Fairtrade Logo = Armut light &amp; keine Trans...  negative   \n",
       "43        1  Kaffeebörse in Nairobi: Für Fairtrade Kaffee g...  negative   \n",
       "44        1  siehe dazu in Zeit-Online Fairtrade: Wenn Kaff...  negative   \n",
       "56        1  geschmacklich: 3 Sterne optisch: 3 Sterne Prei...  negative   \n",
       "57        1  Nahezu ungenießbar – gibt es bei Rewe eine Qua...  negative   \n",
       "58        1  diesen Kaffee kann man nicht trinken, das so w...  negative   \n",
       "68        1  Frisch von Hand aufgebrüht schmeckt dieser Kaf...  negative   \n",
       "69        1  Wer kräftigem Kaffee mag, ist hier genau richt...  negative   \n",
       "75        1  …denn auf der Website wird ausführlich erläute...  negative   \n",
       "76        1  Ich habe meine Bestellung leider nicht erhalte...  negative   \n",
       "77        1  Ich hatte ähnliche Erfahrungen wie NicoH. Imme...  negative   \n",
       "78        1  Der Tchibo Bio Kaffee schmeckt aromatisch gut ...  negative   \n",
       "87        1  Wir haben für unseren Vollautomaten wirklich l...  negative   \n",
       "99        1  Der Kaffee ist große Klasse, da gibt es nachwi...  negative   \n",
       "100       1  Ich kehre seit Jahren nach Ausflügen zu andere...  negative   \n",
       "101       1  Bereits seit sechs Jahren beginne ich den Tag ...  negative   \n",
       "102       1  Aus einigen Testberichten verschiedener Intern...  negative   \n",
       "238       1  Dafür, dass der Kaffee laut Fernsehwerbung ext...  negative   \n",
       "\n",
       "     length  \n",
       "28      255  \n",
       "29      501  \n",
       "36      340  \n",
       "37       18  \n",
       "38      359  \n",
       "42       52  \n",
       "43      540  \n",
       "44       98  \n",
       "56       77  \n",
       "57      265  \n",
       "58      269  \n",
       "68      436  \n",
       "69      127  \n",
       "75      726  \n",
       "76      809  \n",
       "77      332  \n",
       "78      231  \n",
       "87      411  \n",
       "99      252  \n",
       "100     307  \n",
       "101     285  \n",
       "102     381  \n",
       "238     501  "
      ]
     },
     "execution_count": 42,
     "metadata": {},
     "output_type": "execute_result"
    }
   ],
   "source": [
    "#showing negative reviews\n",
    "negative_reviews = kaffee_reviews[kaffee_reviews['sentiment'] == 'negative']\n",
    "negative_reviews"
   ]
  },
  {
   "cell_type": "code",
   "execution_count": 43,
   "id": "f81773c1",
   "metadata": {
    "scrolled": true
   },
   "outputs": [
    {
     "data": {
      "text/html": [
       "<div>\n",
       "<style scoped>\n",
       "    .dataframe tbody tr th:only-of-type {\n",
       "        vertical-align: middle;\n",
       "    }\n",
       "\n",
       "    .dataframe tbody tr th {\n",
       "        vertical-align: top;\n",
       "    }\n",
       "\n",
       "    .dataframe thead th {\n",
       "        text-align: right;\n",
       "    }\n",
       "</style>\n",
       "<table border=\"1\" class=\"dataframe\">\n",
       "  <thead>\n",
       "    <tr style=\"text-align: right;\">\n",
       "      <th></th>\n",
       "      <th>rating</th>\n",
       "      <th>review</th>\n",
       "      <th>sentiment</th>\n",
       "      <th>length</th>\n",
       "    </tr>\n",
       "  </thead>\n",
       "  <tbody>\n",
       "    <tr>\n",
       "      <th>35</th>\n",
       "      <td>4</td>\n",
       "      <td>Einer meiner Lieblingskaffees. Voller Geschmac...</td>\n",
       "      <td>neutral</td>\n",
       "      <td>150</td>\n",
       "    </tr>\n",
       "    <tr>\n",
       "      <th>40</th>\n",
       "      <td>3</td>\n",
       "      <td>Hatten die Bohnen im Blindtest im Büro im Voll...</td>\n",
       "      <td>neutral</td>\n",
       "      <td>355</td>\n",
       "    </tr>\n",
       "    <tr>\n",
       "      <th>49</th>\n",
       "      <td>3</td>\n",
       "      <td>Wir sind mit dem Kaffee sehr zufrieden, wir ma...</td>\n",
       "      <td>neutral</td>\n",
       "      <td>258</td>\n",
       "    </tr>\n",
       "    <tr>\n",
       "      <th>50</th>\n",
       "      <td>3</td>\n",
       "      <td>Eigentlich schmeckt dieser Kaffee, wie man es ...</td>\n",
       "      <td>neutral</td>\n",
       "      <td>512</td>\n",
       "    </tr>\n",
       "    <tr>\n",
       "      <th>51</th>\n",
       "      <td>3</td>\n",
       "      <td>Der Kaffee ist geschmacklich was für alle: nic...</td>\n",
       "      <td>neutral</td>\n",
       "      <td>438</td>\n",
       "    </tr>\n",
       "    <tr>\n",
       "      <th>...</th>\n",
       "      <td>...</td>\n",
       "      <td>...</td>\n",
       "      <td>...</td>\n",
       "      <td>...</td>\n",
       "    </tr>\n",
       "    <tr>\n",
       "      <th>448</th>\n",
       "      <td>4</td>\n",
       "      <td>Seit ungefähr zwei Jahren verwenden wir den Ca...</td>\n",
       "      <td>neutral</td>\n",
       "      <td>224</td>\n",
       "    </tr>\n",
       "    <tr>\n",
       "      <th>449</th>\n",
       "      <td>4</td>\n",
       "      <td>ich liebe diesen kaffee, er hat ein so rundes ...</td>\n",
       "      <td>neutral</td>\n",
       "      <td>186</td>\n",
       "    </tr>\n",
       "    <tr>\n",
       "      <th>450</th>\n",
       "      <td>4</td>\n",
       "      <td>Für mich einer der besten fair gehandelten Kaf...</td>\n",
       "      <td>neutral</td>\n",
       "      <td>78</td>\n",
       "    </tr>\n",
       "    <tr>\n",
       "      <th>451</th>\n",
       "      <td>4</td>\n",
       "      <td>sehr gut schmeckender kaffee,was beseres hab i...</td>\n",
       "      <td>neutral</td>\n",
       "      <td>92</td>\n",
       "    </tr>\n",
       "    <tr>\n",
       "      <th>452</th>\n",
       "      <td>4</td>\n",
       "      <td>Ich bekam von meiner Freundin ein Paket zum Ge...</td>\n",
       "      <td>neutral</td>\n",
       "      <td>190</td>\n",
       "    </tr>\n",
       "  </tbody>\n",
       "</table>\n",
       "<p>95 rows × 4 columns</p>\n",
       "</div>"
      ],
      "text/plain": [
       "     rating                                             review sentiment  \\\n",
       "35        4  Einer meiner Lieblingskaffees. Voller Geschmac...   neutral   \n",
       "40        3  Hatten die Bohnen im Blindtest im Büro im Voll...   neutral   \n",
       "49        3  Wir sind mit dem Kaffee sehr zufrieden, wir ma...   neutral   \n",
       "50        3  Eigentlich schmeckt dieser Kaffee, wie man es ...   neutral   \n",
       "51        3  Der Kaffee ist geschmacklich was für alle: nic...   neutral   \n",
       "..      ...                                                ...       ...   \n",
       "448       4  Seit ungefähr zwei Jahren verwenden wir den Ca...   neutral   \n",
       "449       4  ich liebe diesen kaffee, er hat ein so rundes ...   neutral   \n",
       "450       4  Für mich einer der besten fair gehandelten Kaf...   neutral   \n",
       "451       4  sehr gut schmeckender kaffee,was beseres hab i...   neutral   \n",
       "452       4  Ich bekam von meiner Freundin ein Paket zum Ge...   neutral   \n",
       "\n",
       "     length  \n",
       "35      150  \n",
       "40      355  \n",
       "49      258  \n",
       "50      512  \n",
       "51      438  \n",
       "..      ...  \n",
       "448     224  \n",
       "449     186  \n",
       "450      78  \n",
       "451      92  \n",
       "452     190  \n",
       "\n",
       "[95 rows x 4 columns]"
      ]
     },
     "execution_count": 43,
     "metadata": {},
     "output_type": "execute_result"
    }
   ],
   "source": [
    "#showing neutral reviews\n",
    "neutral_reviews= kaffee_reviews[kaffee_reviews['sentiment'] == 'neutral']\n",
    "neutral_reviews"
   ]
  },
  {
   "cell_type": "code",
   "execution_count": 44,
   "id": "1b1503e6",
   "metadata": {},
   "outputs": [
    {
     "data": {
      "text/plain": [
       "<AxesSubplot:xlabel='sentiment', ylabel='count'>"
      ]
     },
     "execution_count": 44,
     "metadata": {},
     "output_type": "execute_result"
    },
    {
     "data": {
      "image/png": "[encoded data removed]",
      "text/plain": [
       "<Figure size 640x480 with 1 Axes>"
      ]
     },
     "metadata": {},
     "output_type": "display_data"
    }
   ],
   "source": [
    "#plotting the count plot for the ratings\n",
    "sns.countplot(x = kaffee_reviews['sentiment'])"
   ]
  },
  {
   "cell_type": "code",
   "execution_count": 45,
   "id": "81139b3e",
   "metadata": {},
   "outputs": [
    {
     "data": {
      "text/html": [
       "<div>\n",
       "<style scoped>\n",
       "    .dataframe tbody tr th:only-of-type {\n",
       "        vertical-align: middle;\n",
       "    }\n",
       "\n",
       "    .dataframe tbody tr th {\n",
       "        vertical-align: top;\n",
       "    }\n",
       "\n",
       "    .dataframe thead th {\n",
       "        text-align: right;\n",
       "    }\n",
       "</style>\n",
       "<table border=\"1\" class=\"dataframe\">\n",
       "  <thead>\n",
       "    <tr style=\"text-align: right;\">\n",
       "      <th></th>\n",
       "      <th>rating</th>\n",
       "      <th>review</th>\n",
       "      <th>sentiment</th>\n",
       "      <th>length</th>\n",
       "    </tr>\n",
       "  </thead>\n",
       "  <tbody>\n",
       "    <tr>\n",
       "      <th>0</th>\n",
       "      <td>5</td>\n",
       "      <td>Wenn ich Bohnenkaffee trinke (auf Arbeit trink...</td>\n",
       "      <td>positive</td>\n",
       "      <td>758</td>\n",
       "    </tr>\n",
       "    <tr>\n",
       "      <th>1</th>\n",
       "      <td>5</td>\n",
       "      <td>Für mich ist dieser Kaffee ideal. Die Grundvor...</td>\n",
       "      <td>positive</td>\n",
       "      <td>522</td>\n",
       "    </tr>\n",
       "    <tr>\n",
       "      <th>2</th>\n",
       "      <td>5</td>\n",
       "      <td>Ich persönlich bin insbesondere von dem Geschm...</td>\n",
       "      <td>positive</td>\n",
       "      <td>472</td>\n",
       "    </tr>\n",
       "    <tr>\n",
       "      <th>3</th>\n",
       "      <td>5</td>\n",
       "      <td>ganz abgesehen vom geschmack legt gepa inzwisc...</td>\n",
       "      <td>positive</td>\n",
       "      <td>344</td>\n",
       "    </tr>\n",
       "    <tr>\n",
       "      <th>4</th>\n",
       "      <td>5</td>\n",
       "      <td>Seit Jahren kaufe ich am liebsten den Kaffee u...</td>\n",
       "      <td>positive</td>\n",
       "      <td>308</td>\n",
       "    </tr>\n",
       "    <tr>\n",
       "      <th>...</th>\n",
       "      <td>...</td>\n",
       "      <td>...</td>\n",
       "      <td>...</td>\n",
       "      <td>...</td>\n",
       "    </tr>\n",
       "    <tr>\n",
       "      <th>459</th>\n",
       "      <td>5</td>\n",
       "      <td>Ich bevorzuge Gepa Kaffee, da er FairTrade pro...</td>\n",
       "      <td>positive</td>\n",
       "      <td>326</td>\n",
       "    </tr>\n",
       "    <tr>\n",
       "      <th>460</th>\n",
       "      <td>5</td>\n",
       "      <td>Kaffee genießen mit gutem Gefühl: besonders zu...</td>\n",
       "      <td>positive</td>\n",
       "      <td>273</td>\n",
       "    </tr>\n",
       "    <tr>\n",
       "      <th>461</th>\n",
       "      <td>5</td>\n",
       "      <td>Ich habe einen magenfreundlichen, aber koffein...</td>\n",
       "      <td>positive</td>\n",
       "      <td>174</td>\n",
       "    </tr>\n",
       "    <tr>\n",
       "      <th>462</th>\n",
       "      <td>5</td>\n",
       "      <td>Bei Gepa unterstützt man bei jedem Kauf ein we...</td>\n",
       "      <td>positive</td>\n",
       "      <td>114</td>\n",
       "    </tr>\n",
       "    <tr>\n",
       "      <th>463</th>\n",
       "      <td>5</td>\n",
       "      <td>Schon lange gehört Kaffee von Gepa zum festen ...</td>\n",
       "      <td>positive</td>\n",
       "      <td>278</td>\n",
       "    </tr>\n",
       "  </tbody>\n",
       "</table>\n",
       "<p>464 rows × 4 columns</p>\n",
       "</div>"
      ],
      "text/plain": [
       "     rating                                             review sentiment  \\\n",
       "0         5  Wenn ich Bohnenkaffee trinke (auf Arbeit trink...  positive   \n",
       "1         5  Für mich ist dieser Kaffee ideal. Die Grundvor...  positive   \n",
       "2         5  Ich persönlich bin insbesondere von dem Geschm...  positive   \n",
       "3         5  ganz abgesehen vom geschmack legt gepa inzwisc...  positive   \n",
       "4         5  Seit Jahren kaufe ich am liebsten den Kaffee u...  positive   \n",
       "..      ...                                                ...       ...   \n",
       "459       5  Ich bevorzuge Gepa Kaffee, da er FairTrade pro...  positive   \n",
       "460       5  Kaffee genießen mit gutem Gefühl: besonders zu...  positive   \n",
       "461       5  Ich habe einen magenfreundlichen, aber koffein...  positive   \n",
       "462       5  Bei Gepa unterstützt man bei jedem Kauf ein we...  positive   \n",
       "463       5  Schon lange gehört Kaffee von Gepa zum festen ...  positive   \n",
       "\n",
       "     length  \n",
       "0       758  \n",
       "1       522  \n",
       "2       472  \n",
       "3       344  \n",
       "4       308  \n",
       "..      ...  \n",
       "459     326  \n",
       "460     273  \n",
       "461     174  \n",
       "462     114  \n",
       "463     278  \n",
       "\n",
       "[464 rows x 4 columns]"
      ]
     },
     "execution_count": 45,
     "metadata": {},
     "output_type": "execute_result"
    }
   ],
   "source": [
    "#feature extraction: Length of the review text\n",
    "kaffee_reviews['length']=kaffee_reviews['review'].apply(len)\n",
    "kaffee_reviews"
   ]
  },
  {
   "cell_type": "code",
   "execution_count": 46,
   "id": "3bf6fe39",
   "metadata": {},
   "outputs": [
    {
     "data": {
      "text/html": [
       "<div>\n",
       "<style scoped>\n",
       "    .dataframe tbody tr th:only-of-type {\n",
       "        vertical-align: middle;\n",
       "    }\n",
       "\n",
       "    .dataframe tbody tr th {\n",
       "        vertical-align: top;\n",
       "    }\n",
       "\n",
       "    .dataframe thead th {\n",
       "        text-align: right;\n",
       "    }\n",
       "</style>\n",
       "<table border=\"1\" class=\"dataframe\">\n",
       "  <thead>\n",
       "    <tr style=\"text-align: right;\">\n",
       "      <th></th>\n",
       "      <th>rating</th>\n",
       "      <th>length</th>\n",
       "    </tr>\n",
       "  </thead>\n",
       "  <tbody>\n",
       "    <tr>\n",
       "      <th>count</th>\n",
       "      <td>464.000000</td>\n",
       "      <td>464.000000</td>\n",
       "    </tr>\n",
       "    <tr>\n",
       "      <th>mean</th>\n",
       "      <td>4.579741</td>\n",
       "      <td>271.137931</td>\n",
       "    </tr>\n",
       "    <tr>\n",
       "      <th>std</th>\n",
       "      <td>0.935327</td>\n",
       "      <td>183.949584</td>\n",
       "    </tr>\n",
       "    <tr>\n",
       "      <th>min</th>\n",
       "      <td>1.000000</td>\n",
       "      <td>4.000000</td>\n",
       "    </tr>\n",
       "    <tr>\n",
       "      <th>25%</th>\n",
       "      <td>4.000000</td>\n",
       "      <td>131.500000</td>\n",
       "    </tr>\n",
       "    <tr>\n",
       "      <th>50%</th>\n",
       "      <td>5.000000</td>\n",
       "      <td>252.500000</td>\n",
       "    </tr>\n",
       "    <tr>\n",
       "      <th>75%</th>\n",
       "      <td>5.000000</td>\n",
       "      <td>372.000000</td>\n",
       "    </tr>\n",
       "    <tr>\n",
       "      <th>max</th>\n",
       "      <td>5.000000</td>\n",
       "      <td>1222.000000</td>\n",
       "    </tr>\n",
       "  </tbody>\n",
       "</table>\n",
       "</div>"
      ],
      "text/plain": [
       "           rating       length\n",
       "count  464.000000   464.000000\n",
       "mean     4.579741   271.137931\n",
       "std      0.935327   183.949584\n",
       "min      1.000000     4.000000\n",
       "25%      4.000000   131.500000\n",
       "50%      5.000000   252.500000\n",
       "75%      5.000000   372.000000\n",
       "max      5.000000  1222.000000"
      ]
     },
     "execution_count": 46,
     "metadata": {},
     "output_type": "execute_result"
    }
   ],
   "source": [
    "kaffee_reviews.describe()"
   ]
  },
  {
   "cell_type": "code",
   "execution_count": 47,
   "id": "fda77b08",
   "metadata": {},
   "outputs": [
    {
     "data": {
      "text/html": [
       "<div>\n",
       "<style scoped>\n",
       "    .dataframe tbody tr th:only-of-type {\n",
       "        vertical-align: middle;\n",
       "    }\n",
       "\n",
       "    .dataframe tbody tr th {\n",
       "        vertical-align: top;\n",
       "    }\n",
       "\n",
       "    .dataframe thead th {\n",
       "        text-align: right;\n",
       "    }\n",
       "</style>\n",
       "<table border=\"1\" class=\"dataframe\">\n",
       "  <thead>\n",
       "    <tr style=\"text-align: right;\">\n",
       "      <th></th>\n",
       "      <th>rating</th>\n",
       "      <th>review</th>\n",
       "      <th>sentiment</th>\n",
       "      <th>length</th>\n",
       "    </tr>\n",
       "  </thead>\n",
       "  <tbody>\n",
       "    <tr>\n",
       "      <th>9</th>\n",
       "      <td>5</td>\n",
       "      <td>Aufgrund langfristiger Medikamenteneinnahme wu...</td>\n",
       "      <td>positive</td>\n",
       "      <td>1222</td>\n",
       "    </tr>\n",
       "  </tbody>\n",
       "</table>\n",
       "</div>"
      ],
      "text/plain": [
       "   rating                                             review sentiment  length\n",
       "9       5  Aufgrund langfristiger Medikamenteneinnahme wu...  positive    1222"
      ]
     },
     "execution_count": 47,
     "metadata": {},
     "output_type": "execute_result"
    }
   ],
   "source": [
    "#longest review\n",
    "kaffee_reviews[kaffee_reviews['length'] == 1222.000000]"
   ]
  },
  {
   "cell_type": "code",
   "execution_count": 48,
   "id": "45e85792",
   "metadata": {},
   "outputs": [
    {
     "data": {
      "text/html": [
       "<div>\n",
       "<style scoped>\n",
       "    .dataframe tbody tr th:only-of-type {\n",
       "        vertical-align: middle;\n",
       "    }\n",
       "\n",
       "    .dataframe tbody tr th {\n",
       "        vertical-align: top;\n",
       "    }\n",
       "\n",
       "    .dataframe thead th {\n",
       "        text-align: right;\n",
       "    }\n",
       "</style>\n",
       "<table border=\"1\" class=\"dataframe\">\n",
       "  <thead>\n",
       "    <tr style=\"text-align: right;\">\n",
       "      <th></th>\n",
       "      <th>rating</th>\n",
       "      <th>review</th>\n",
       "      <th>sentiment</th>\n",
       "      <th>length</th>\n",
       "    </tr>\n",
       "  </thead>\n",
       "  <tbody>\n",
       "    <tr>\n",
       "      <th>89</th>\n",
       "      <td>4</td>\n",
       "      <td>toll</td>\n",
       "      <td>neutral</td>\n",
       "      <td>4</td>\n",
       "    </tr>\n",
       "    <tr>\n",
       "      <th>211</th>\n",
       "      <td>5</td>\n",
       "      <td>toll</td>\n",
       "      <td>positive</td>\n",
       "      <td>4</td>\n",
       "    </tr>\n",
       "  </tbody>\n",
       "</table>\n",
       "</div>"
      ],
      "text/plain": [
       "     rating review sentiment  length\n",
       "89        4   toll   neutral       4\n",
       "211       5   toll  positive       4"
      ]
     },
     "execution_count": 48,
     "metadata": {},
     "output_type": "execute_result"
    }
   ],
   "source": [
    "#shortest review\n",
    "kaffee_reviews[kaffee_reviews['length'] == 4.000000]"
   ]
  },
  {
   "cell_type": "code",
   "execution_count": 49,
   "id": "718bcae9",
   "metadata": {
    "scrolled": true
   },
   "outputs": [
    {
     "data": {
      "text/plain": [
       "<AxesSubplot:ylabel='Frequency'>"
      ]
     },
     "execution_count": 49,
     "metadata": {},
     "output_type": "execute_result"
    },
    {
     "data": {
      "image/png": "[encoded data removed]",
      "text/plain": [
       "<Figure size 640x480 with 1 Axes>"
      ]
     },
     "metadata": {},
     "output_type": "display_data"
    }
   ],
   "source": [
    "#plot the length histogram\n",
    "kaffee_reviews['length'].plot(bins = 20, kind = 'hist')"
   ]
  },
  {
   "cell_type": "code",
   "execution_count": 50,
   "id": "8c87f488",
   "metadata": {},
   "outputs": [],
   "source": [
    "import re\n",
    "from nltk.corpus import stopwords\n"
   ]
  },
  {
   "cell_type": "code",
   "execution_count": 51,
   "id": "5c47076a",
   "metadata": {},
   "outputs": [],
   "source": [
    "def clean_review(review):\n",
    "    #remove punctuations and set to lowercase\n",
    "    review_text = review.lower()\n",
    "    review_text = re.sub(\"[^a-zA-Z]\",\" \",review_text)\n",
    "    \n",
    "    #remove stopwords\n",
    "    stop_words = set(stopwords.words(\"german\"))\n",
    "    words = word_tokenize(review_text)\n",
    "    words = [word for word in words if not word in stop_words]\n",
    "    \n",
    "    #lemmatize words\n",
    "    lemmatizer = WordNetLemmatizer()\n",
    "    words = [lemmatizer.lemmatize(word, pos='v') for word in words]\n",
    "    \n",
    "    #join the cleaned words back into a sentence\n",
    "    cleaned_review = \" \".join(words)\n",
    "    return cleaned_review\n"
   ]
  },
  {
   "cell_type": "code",
   "execution_count": 52,
   "id": "671e1d6e",
   "metadata": {},
   "outputs": [],
   "source": [
    "from sklearn.feature_extraction.text import TfidfVectorizer"
   ]
  },
  {
   "cell_type": "code",
   "execution_count": 53,
   "id": "f7c5900f",
   "metadata": {},
   "outputs": [],
   "source": [
    "#Tokenization\n",
    "vectorizer = TfidfVectorizer()\n",
    "X = vectorizer.fit_transform(kaffee_reviews['review'])\n",
    "y = kaffee_reviews['sentiment']"
   ]
  },
  {
   "cell_type": "code",
   "execution_count": 54,
   "id": "48a1fbff",
   "metadata": {},
   "outputs": [],
   "source": [
    "from sklearn.model_selection import train_test_split"
   ]
  },
  {
   "cell_type": "code",
   "execution_count": 55,
   "id": "6a549073",
   "metadata": {},
   "outputs": [
    {
     "name": "stdout",
     "output_type": "stream",
     "text": [
      "(324, 3197)\n",
      "(324,)\n",
      "(140, 3197)\n",
      "(140,)\n"
     ]
    }
   ],
   "source": [
    "#Training and testing\n",
    "#test size representation percentage\n",
    "X_train, X_test, y_train, y_test=train_test_split(X, y, test_size=0.3, random_state=42)\n",
    "print(X_train.shape)\n",
    "print(y_train.shape)\n",
    "print(X_test.shape)\n",
    "print(y_test.shape)"
   ]
  },
  {
   "cell_type": "code",
   "execution_count": 56,
   "id": "cbe38a2c",
   "metadata": {},
   "outputs": [
    {
     "data": {
      "text/html": [
       "<style>#sk-container-id-2 {color: black;background-color: white;}#sk-container-id-2 pre{padding: 0;}#sk-container-id-2 div.sk-toggleable {background-color: white;}#sk-container-id-2 label.sk-toggleable__label {cursor: pointer;display: block;width: 100%;margin-bottom: 0;padding: 0.3em;box-sizing: border-box;text-align: center;}#sk-container-id-2 label.sk-toggleable__label-arrow:before {content: \"▸\";float: left;margin-right: 0.25em;color: #696969;}#sk-container-id-2 label.sk-toggleable__label-arrow:hover:before {color: black;}#sk-container-id-2 div.sk-estimator:hover label.sk-toggleable__label-arrow:before {color: black;}#sk-container-id-2 div.sk-toggleable__content {max-height: 0;max-width: 0;overflow: hidden;text-align: left;background-color: #f0f8ff;}#sk-container-id-2 div.sk-toggleable__content pre {margin: 0.2em;color: black;border-radius: 0.25em;background-color: #f0f8ff;}#sk-container-id-2 input.sk-toggleable__control:checked~div.sk-toggleable__content {max-height: 200px;max-width: 100%;overflow: auto;}#sk-container-id-2 input.sk-toggleable__control:checked~label.sk-toggleable__label-arrow:before {content: \"▾\";}#sk-container-id-2 div.sk-estimator input.sk-toggleable__control:checked~label.sk-toggleable__label {background-color: #d4ebff;}#sk-container-id-2 div.sk-label input.sk-toggleable__control:checked~label.sk-toggleable__label {background-color: #d4ebff;}#sk-container-id-2 input.sk-hidden--visually {border: 0;clip: rect(1px 1px 1px 1px);clip: rect(1px, 1px, 1px, 1px);height: 1px;margin: -1px;overflow: hidden;padding: 0;position: absolute;width: 1px;}#sk-container-id-2 div.sk-estimator {font-family: monospace;background-color: #f0f8ff;border: 1px dotted black;border-radius: 0.25em;box-sizing: border-box;margin-bottom: 0.5em;}#sk-container-id-2 div.sk-estimator:hover {background-color: #d4ebff;}#sk-container-id-2 div.sk-parallel-item::after {content: \"\";width: 100%;border-bottom: 1px solid gray;flex-grow: 1;}#sk-container-id-2 div.sk-label:hover label.sk-toggleable__label {background-color: #d4ebff;}#sk-container-id-2 div.sk-serial::before {content: \"\";position: absolute;border-left: 1px solid gray;box-sizing: border-box;top: 0;bottom: 0;left: 50%;z-index: 0;}#sk-container-id-2 div.sk-serial {display: flex;flex-direction: column;align-items: center;background-color: white;padding-right: 0.2em;padding-left: 0.2em;position: relative;}#sk-container-id-2 div.sk-item {position: relative;z-index: 1;}#sk-container-id-2 div.sk-parallel {display: flex;align-items: stretch;justify-content: center;background-color: white;position: relative;}#sk-container-id-2 div.sk-item::before, #sk-container-id-2 div.sk-parallel-item::before {content: \"\";position: absolute;border-left: 1px solid gray;box-sizing: border-box;top: 0;bottom: 0;left: 50%;z-index: -1;}#sk-container-id-2 div.sk-parallel-item {display: flex;flex-direction: column;z-index: 1;position: relative;background-color: white;}#sk-container-id-2 div.sk-parallel-item:first-child::after {align-self: flex-end;width: 50%;}#sk-container-id-2 div.sk-parallel-item:last-child::after {align-self: flex-start;width: 50%;}#sk-container-id-2 div.sk-parallel-item:only-child::after {width: 0;}#sk-container-id-2 div.sk-dashed-wrapped {border: 1px dashed gray;margin: 0 0.4em 0.5em 0.4em;box-sizing: border-box;padding-bottom: 0.4em;background-color: white;}#sk-container-id-2 div.sk-label label {font-family: monospace;font-weight: bold;display: inline-block;line-height: 1.2em;}#sk-container-id-2 div.sk-label-container {text-align: center;}#sk-container-id-2 div.sk-container {/* jupyter's `normalize.less` sets `[hidden] { display: none; }` but bootstrap.min.css set `[hidden] { display: none !important; }` so we also need the `!important` here to be able to override the default hidden behavior on the sphinx rendered scikit-learn.org. See: https://github.com/scikit-learn/scikit-learn/issues/21755 */display: inline-block !important;position: relative;}#sk-container-id-2 div.sk-text-repr-fallback {display: none;}</style><div id=\"sk-container-id-2\" class=\"sk-top-container\"><div class=\"sk-text-repr-fallback\"><pre>MultinomialNB()</pre><b>In a Jupyter environment, please rerun this cell to show the HTML representation or trust the notebook. <br />On GitHub, the HTML representation is unable to render, please try loading this page with nbviewer.org.</b></div><div class=\"sk-container\" hidden><div class=\"sk-item\"><div class=\"sk-estimator sk-toggleable\"><input class=\"sk-toggleable__control sk-hidden--visually\" id=\"sk-estimator-id-2\" type=\"checkbox\" checked><label for=\"sk-estimator-id-2\" class=\"sk-toggleable__label sk-toggleable__label-arrow\">MultinomialNB</label><div class=\"sk-toggleable__content\"><pre>MultinomialNB()</pre></div></div></div></div></div>"
      ],
      "text/plain": [
       "MultinomialNB()"
      ]
     },
     "execution_count": 56,
     "metadata": {},
     "output_type": "execute_result"
    }
   ],
   "source": [
    "#Training the model using Naives Bayes algorithm \n",
    "from sklearn.naive_bayes import MultinomialNB\n",
    "\n",
    "naive_model = MultinomialNB()\n",
    "naive_model.fit(X_train, y_train)"
   ]
  },
  {
   "cell_type": "code",
   "execution_count": 57,
   "id": "fbb52708",
   "metadata": {},
   "outputs": [
    {
     "name": "stdout",
     "output_type": "stream",
     "text": [
      "Requirement already satisfied: scikit-learn in c:\\users\\admin\\anaconda3\\lib\\site-packages (1.2.2)\n",
      "Requirement already satisfied: threadpoolctl>=2.0.0 in c:\\users\\admin\\anaconda3\\lib\\site-packages (from scikit-learn) (2.2.0)\n",
      "Requirement already satisfied: numpy>=1.17.3 in c:\\users\\admin\\anaconda3\\lib\\site-packages (from scikit-learn) (1.23.5)\n",
      "Requirement already satisfied: joblib>=1.1.1 in c:\\users\\admin\\anaconda3\\lib\\site-packages (from scikit-learn) (1.2.0)\n",
      "Requirement already satisfied: scipy>=1.3.2 in c:\\users\\admin\\anaconda3\\lib\\site-packages (from scikit-learn) (1.9.1)\n"
     ]
    }
   ],
   "source": [
    "!pip install --upgrade scikit-learn"
   ]
  },
  {
   "cell_type": "code",
   "execution_count": 58,
   "id": "ca46ba6c",
   "metadata": {
    "scrolled": false
   },
   "outputs": [],
   "source": [
    "#from sklearn.metrics import accuracy_score, precision_score, recall_score, f1_score, zero_division=\n",
    "from sklearn.metrics import accuracy_score, precision_score, recall_score, f1_score"
   ]
  },
  {
   "cell_type": "code",
   "execution_count": 59,
   "id": "23f07bca",
   "metadata": {},
   "outputs": [
    {
     "name": "stdout",
     "output_type": "stream",
     "text": [
      "Accuracy: 77.14285714285715\n",
      "Precision: 59.51020408163266\n",
      "Recall Score: 77.14285714285715\n",
      "F1_score: 67.18894009216591\n"
     ]
    },
    {
     "name": "stderr",
     "output_type": "stream",
     "text": [
      "C:\\Users\\admin\\anaconda3\\lib\\site-packages\\sklearn\\metrics\\_classification.py:1344: UndefinedMetricWarning: Precision is ill-defined and being set to 0.0 in labels with no predicted samples. Use `zero_division` parameter to control this behavior.\n",
      "  _warn_prf(average, modifier, msg_start, len(result))\n"
     ]
    }
   ],
   "source": [
    "# Evaluate nb_model performance\n",
    "y_pred = naive_model.predict(X_test)\n",
    "\n",
    "accuracy_level = accuracy_score(y_test, y_pred)*100\n",
    "precision_level = precision_score(y_test, y_pred, average='weighted')*100\n",
    "recall_score_level= recall_score(y_test, y_pred, average='weighted')*100\n",
    "f1_score_level = f1_score(y_test, y_pred, average='weighted')*100\n",
    "\n",
    "print('Accuracy:', accuracy_level)\n",
    "print('Precision:', precision_level)\n",
    "print('Recall Score:', recall_score_level)\n",
    "print('F1_score:', f1_score_level)"
   ]
  },
  {
   "cell_type": "code",
   "execution_count": 60,
   "id": "65890f96",
   "metadata": {},
   "outputs": [],
   "source": [
    "from nltk.tokenize import word_tokenize"
   ]
  },
  {
   "cell_type": "code",
   "execution_count": 61,
   "id": "d9b0efbd",
   "metadata": {},
   "outputs": [],
   "source": [
    "from nltk.stem import WordNetLemmatizer"
   ]
  },
  {
   "cell_type": "code",
   "execution_count": 62,
   "id": "a9037be8",
   "metadata": {},
   "outputs": [
    {
     "name": "stderr",
     "output_type": "stream",
     "text": [
      "[nltk_data] Downloading package omw-1.4 to\n",
      "[nltk_data]     C:\\Users\\admin\\AppData\\Roaming\\nltk_data...\n",
      "[nltk_data]   Package omw-1.4 is already up-to-date!\n"
     ]
    },
    {
     "data": {
      "text/plain": [
       "True"
      ]
     },
     "execution_count": 62,
     "metadata": {},
     "output_type": "execute_result"
    }
   ],
   "source": [
    "import nltk\n",
    "nltk.download('omw-1.4')"
   ]
  },
  {
   "cell_type": "code",
   "execution_count": 64,
   "id": "632a2b20",
   "metadata": {
    "scrolled": true
   },
   "outputs": [
    {
     "name": "stdout",
     "output_type": "stream",
     "text": [
      "The rating is: ['positive']\n"
     ]
    }
   ],
   "source": [
    "kaffee_reviews_test = ['sehr sehr gut']\n",
    "kaffee_clean_review = [clean_review(review) for review in kaffee_reviews_test]\n",
    "new_X = vectorizer.transform(kaffee_clean_review)\n",
    "new_y = naive_model.predict(new_X)\n",
    "print('The rating is:', new_y)"
   ]
  },
  {
   "cell_type": "code",
   "execution_count": 65,
   "id": "2539f601",
   "metadata": {},
   "outputs": [
    {
     "name": "stdout",
     "output_type": "stream",
     "text": [
      "Requirement already satisfied: gradio in c:\\users\\admin\\anaconda3\\lib\\site-packages (3.27.0)\n",
      "Requirement already satisfied: semantic-version in c:\\users\\admin\\anaconda3\\lib\\site-packages (from gradio) (2.10.0)\n",
      "Requirement already satisfied: aiofiles in c:\\users\\admin\\anaconda3\\lib\\site-packages (from gradio) (23.1.0)\n",
      "Requirement already satisfied: altair>=4.2.0 in c:\\users\\admin\\anaconda3\\lib\\site-packages (from gradio) (4.2.2)\n",
      "Requirement already satisfied: markupsafe in c:\\users\\admin\\anaconda3\\lib\\site-packages (from gradio) (2.0.1)\n",
      "Requirement already satisfied: pydantic in c:\\users\\admin\\anaconda3\\lib\\site-packages (from gradio) (1.10.7)\n",
      "Requirement already satisfied: jinja2 in c:\\users\\admin\\anaconda3\\lib\\site-packages (from gradio) (2.11.3)\n",
      "Requirement already satisfied: requests in c:\\users\\admin\\anaconda3\\lib\\site-packages (from gradio) (2.28.1)\n",
      "Requirement already satisfied: pyyaml in c:\\users\\admin\\anaconda3\\lib\\site-packages (from gradio) (6.0)\n",
      "Requirement already satisfied: pillow in c:\\users\\admin\\anaconda3\\lib\\site-packages (from gradio) (9.2.0)\n",
      "Requirement already satisfied: markdown-it-py[linkify]>=2.0.0 in c:\\users\\admin\\anaconda3\\lib\\site-packages (from gradio) (2.2.0)\n",
      "Requirement already satisfied: numpy in c:\\users\\admin\\anaconda3\\lib\\site-packages (from gradio) (1.23.5)\n",
      "Requirement already satisfied: pydub in c:\\users\\admin\\anaconda3\\lib\\site-packages (from gradio) (0.25.1)\n",
      "Requirement already satisfied: aiohttp in c:\\users\\admin\\anaconda3\\lib\\site-packages (from gradio) (3.8.4)\n",
      "Requirement already satisfied: pandas in c:\\users\\admin\\anaconda3\\lib\\site-packages (from gradio) (1.4.4)\n",
      "Requirement already satisfied: uvicorn in c:\\users\\admin\\anaconda3\\lib\\site-packages (from gradio) (0.21.1)\n",
      "Requirement already satisfied: typing-extensions in c:\\users\\admin\\anaconda3\\lib\\site-packages (from gradio) (4.3.0)\n",
      "Requirement already satisfied: orjson in c:\\users\\admin\\anaconda3\\lib\\site-packages (from gradio) (3.8.10)\n",
      "Requirement already satisfied: websockets>=10.0 in c:\\users\\admin\\anaconda3\\lib\\site-packages (from gradio) (11.0.2)\n",
      "Requirement already satisfied: mdit-py-plugins<=0.3.3 in c:\\users\\admin\\anaconda3\\lib\\site-packages (from gradio) (0.3.3)\n",
      "Requirement already satisfied: fastapi in c:\\users\\admin\\anaconda3\\lib\\site-packages (from gradio) (0.95.1)\n",
      "Requirement already satisfied: gradio-client>=0.1.3 in c:\\users\\admin\\anaconda3\\lib\\site-packages (from gradio) (0.1.3)\n",
      "Requirement already satisfied: httpx in c:\\users\\admin\\anaconda3\\lib\\site-packages (from gradio) (0.24.0)\n",
      "Requirement already satisfied: huggingface-hub>=0.13.0 in c:\\users\\admin\\anaconda3\\lib\\site-packages (from gradio) (0.13.3)\n",
      "Requirement already satisfied: python-multipart in c:\\users\\admin\\anaconda3\\lib\\site-packages (from gradio) (0.0.6)\n",
      "Requirement already satisfied: ffmpy in c:\\users\\admin\\anaconda3\\lib\\site-packages (from gradio) (0.3.0)\n",
      "Requirement already satisfied: matplotlib in c:\\users\\admin\\anaconda3\\lib\\site-packages (from gradio) (3.5.2)\n",
      "Requirement already satisfied: jsonschema>=3.0 in c:\\users\\admin\\anaconda3\\lib\\site-packages (from altair>=4.2.0->gradio) (4.16.0)\n",
      "Requirement already satisfied: toolz in c:\\users\\admin\\anaconda3\\lib\\site-packages (from altair>=4.2.0->gradio) (0.11.2)\n",
      "Requirement already satisfied: entrypoints in c:\\users\\admin\\anaconda3\\lib\\site-packages (from altair>=4.2.0->gradio) (0.4)\n",
      "Requirement already satisfied: packaging in c:\\users\\admin\\anaconda3\\lib\\site-packages (from gradio-client>=0.1.3->gradio) (21.3)\n",
      "Requirement already satisfied: fsspec in c:\\users\\admin\\anaconda3\\lib\\site-packages (from gradio-client>=0.1.3->gradio) (2022.7.1)\n",
      "Requirement already satisfied: tqdm>=4.42.1 in c:\\users\\admin\\anaconda3\\lib\\site-packages (from huggingface-hub>=0.13.0->gradio) (4.64.1)\n",
      "Requirement already satisfied: filelock in c:\\users\\admin\\anaconda3\\lib\\site-packages (from huggingface-hub>=0.13.0->gradio) (3.6.0)\n",
      "Requirement already satisfied: mdurl~=0.1 in c:\\users\\admin\\anaconda3\\lib\\site-packages (from markdown-it-py[linkify]>=2.0.0->gradio) (0.1.2)\n",
      "Requirement already satisfied: linkify-it-py<3,>=1 in c:\\users\\admin\\anaconda3\\lib\\site-packages (from markdown-it-py[linkify]>=2.0.0->gradio) (2.0.0)\n",
      "Requirement already satisfied: pytz>=2020.1 in c:\\users\\admin\\anaconda3\\lib\\site-packages (from pandas->gradio) (2022.1)\n",
      "Requirement already satisfied: python-dateutil>=2.8.1 in c:\\users\\admin\\anaconda3\\lib\\site-packages (from pandas->gradio) (2.8.2)\n",
      "Requirement already satisfied: attrs>=17.3.0 in c:\\users\\admin\\anaconda3\\lib\\site-packages (from aiohttp->gradio) (21.4.0)\n",
      "Requirement already satisfied: frozenlist>=1.1.1 in c:\\users\\admin\\anaconda3\\lib\\site-packages (from aiohttp->gradio) (1.3.3)\n",
      "Requirement already satisfied: aiosignal>=1.1.2 in c:\\users\\admin\\anaconda3\\lib\\site-packages (from aiohttp->gradio) (1.3.1)\n",
      "Requirement already satisfied: charset-normalizer<4.0,>=2.0 in c:\\users\\admin\\anaconda3\\lib\\site-packages (from aiohttp->gradio) (2.0.4)\n",
      "Requirement already satisfied: async-timeout<5.0,>=4.0.0a3 in c:\\users\\admin\\anaconda3\\lib\\site-packages (from aiohttp->gradio) (4.0.2)\n",
      "Requirement already satisfied: yarl<2.0,>=1.0 in c:\\users\\admin\\anaconda3\\lib\\site-packages (from aiohttp->gradio) (1.8.2)\n",
      "Requirement already satisfied: multidict<7.0,>=4.5 in c:\\users\\admin\\anaconda3\\lib\\site-packages (from aiohttp->gradio) (6.0.4)\n",
      "Requirement already satisfied: starlette<0.27.0,>=0.26.1 in c:\\users\\admin\\anaconda3\\lib\\site-packages (from fastapi->gradio) (0.26.1)\n",
      "Requirement already satisfied: idna in c:\\users\\admin\\anaconda3\\lib\\site-packages (from httpx->gradio) (3.3)\n",
      "Requirement already satisfied: sniffio in c:\\users\\admin\\anaconda3\\lib\\site-packages (from httpx->gradio) (1.2.0)\n",
      "Requirement already satisfied: httpcore<0.18.0,>=0.15.0 in c:\\users\\admin\\anaconda3\\lib\\site-packages (from httpx->gradio) (0.17.0)\n",
      "Requirement already satisfied: certifi in c:\\users\\admin\\anaconda3\\lib\\site-packages (from httpx->gradio) (2022.9.14)\n",
      "Requirement already satisfied: cycler>=0.10 in c:\\users\\admin\\anaconda3\\lib\\site-packages (from matplotlib->gradio) (0.11.0)\n",
      "Requirement already satisfied: pyparsing>=2.2.1 in c:\\users\\admin\\anaconda3\\lib\\site-packages (from matplotlib->gradio) (3.0.9)\n",
      "Requirement already satisfied: kiwisolver>=1.0.1 in c:\\users\\admin\\anaconda3\\lib\\site-packages (from matplotlib->gradio) (1.4.2)\n",
      "Requirement already satisfied: fonttools>=4.22.0 in c:\\users\\admin\\anaconda3\\lib\\site-packages (from matplotlib->gradio) (4.25.0)\n",
      "Requirement already satisfied: urllib3<1.27,>=1.21.1 in c:\\users\\admin\\anaconda3\\lib\\site-packages (from requests->gradio) (1.26.11)\n",
      "Requirement already satisfied: h11>=0.8 in c:\\users\\admin\\anaconda3\\lib\\site-packages (from uvicorn->gradio) (0.14.0)\n",
      "Requirement already satisfied: click>=7.0 in c:\\users\\admin\\anaconda3\\lib\\site-packages (from uvicorn->gradio) (8.0.4)\n",
      "Requirement already satisfied: colorama in c:\\users\\admin\\anaconda3\\lib\\site-packages (from click>=7.0->uvicorn->gradio) (0.4.5)\n",
      "Requirement already satisfied: anyio<5.0,>=3.0 in c:\\users\\admin\\anaconda3\\lib\\site-packages (from httpcore<0.18.0,>=0.15.0->httpx->gradio) (3.5.0)\n",
      "Requirement already satisfied: pyrsistent!=0.17.0,!=0.17.1,!=0.17.2,>=0.14.0 in c:\\users\\admin\\anaconda3\\lib\\site-packages (from jsonschema>=3.0->altair>=4.2.0->gradio) (0.18.0)\n",
      "Requirement already satisfied: uc-micro-py in c:\\users\\admin\\anaconda3\\lib\\site-packages (from linkify-it-py<3,>=1->markdown-it-py[linkify]>=2.0.0->gradio) (1.0.1)\n",
      "Requirement already satisfied: six>=1.5 in c:\\users\\admin\\anaconda3\\lib\\site-packages (from python-dateutil>=2.8.1->pandas->gradio) (1.16.0)\n",
      "Note: you may need to restart the kernel to use updated packages.\n"
     ]
    }
   ],
   "source": [
    "pip install gradio"
   ]
  },
  {
   "cell_type": "code",
   "execution_count": 66,
   "id": "2092dcfa",
   "metadata": {},
   "outputs": [],
   "source": [
    "import gradio as gr\n",
    "from gradio.components import Textbox"
   ]
  },
  {
   "cell_type": "code",
   "execution_count": 67,
   "id": "4a6fbb32",
   "metadata": {},
   "outputs": [
    {
     "name": "stderr",
     "output_type": "stream",
     "text": [
      "C:\\Users\\admin\\anaconda3\\lib\\site-packages\\gradio\\inputs.py:27: UserWarning: Usage of gradio.inputs is deprecated, and will not be supported in the future, please import your component from gradio.components\n",
      "  warnings.warn(\n",
      "C:\\Users\\admin\\anaconda3\\lib\\site-packages\\gradio\\deprecation.py:40: UserWarning: `optional` parameter is deprecated, and it has no effect\n",
      "  warnings.warn(value)\n",
      "C:\\Users\\admin\\anaconda3\\lib\\site-packages\\gradio\\deprecation.py:40: UserWarning: `numeric` parameter is deprecated, and it has no effect\n",
      "  warnings.warn(value)\n",
      "C:\\Users\\admin\\anaconda3\\lib\\site-packages\\gradio\\outputs.py:197: UserWarning: Usage of gradio.outputs is deprecated, and will not be supported in the future, please import your components from gradio.components\n",
      "  warnings.warn(\n",
      "C:\\Users\\admin\\anaconda3\\lib\\site-packages\\gradio\\deprecation.py:40: UserWarning: The 'type' parameter has been deprecated. Use the Number component instead.\n",
      "  warnings.warn(value)\n"
     ]
    },
    {
     "name": "stdout",
     "output_type": "stream",
     "text": [
      "Running on local URL:  http://127.0.0.1:7862\n",
      "Running on public URL: https://176df93a764e30aeae.gradio.live\n",
      "\n",
      "This share link expires in 72 hours. For free permanent hosting and GPU upgrades (NEW!), check out Spaces: https://huggingface.co/spaces\n"
     ]
    },
    {
     "data": {
      "text/html": [
       "<div><iframe src=\"https://176df93a764e30aeae.gradio.live\" width=\"100%\" height=\"500\" allow=\"autoplay; camera; microphone; clipboard-read; clipboard-write;\" frameborder=\"0\" allowfullscreen></iframe></div>"
      ],
      "text/plain": [
       "<IPython.core.display.HTML object>"
      ]
     },
     "metadata": {},
     "output_type": "display_data"
    },
    {
     "data": {
      "text/plain": []
     },
     "execution_count": 67,
     "metadata": {},
     "output_type": "execute_result"
    }
   ],
   "source": [
    "def new_sentiment(kaffee_reviews_test):\n",
    "    # Process the new tweet\n",
    "    text_vectorized = vectorizer.transform([kaffee_reviews_test])\n",
    "\n",
    "    # Predict the sentiment of the new tweet\n",
    "    text_sentiment = naive_model.predict(text_vectorized)\n",
    "\n",
    "    return text_sentiment[0]\n",
    "\n",
    "tweet_input = gr.inputs.Textbox(lines=3, label=\"Enter your German text\")\n",
    "prediction = gr.outputs.Label(label=\"The sentiment of this German text is : \")\n",
    "\n",
    "gr.Interface(fn=new_sentiment, inputs=tweet_input, outputs=prediction, title=\"German Sentiment Analyzer by Joy Mwagiru 19S01ACS001\", \n",
    "             description=\"Enter a German text and get its sentiment prediction.\").launch(share=True)"
   ]
  },
  {
   "cell_type": "code",
   "execution_count": null,
   "id": "6ef5de11",
   "metadata": {},
   "outputs": [],
   "source": []
  }
 ],
 "metadata": {
  "kernelspec": {
   "display_name": "Python 3 (ipykernel)",
   "language": "python",
   "name": "python3"
  },
  "language_info": {
   "codemirror_mode": {
    "name": "ipython",
    "version": 3
   },
   "file_extension": ".py",
   "mimetype": "text/x-python",
   "name": "python",
   "nbconvert_exporter": "python",
   "pygments_lexer": "ipython3",
   "version": "3.9.13"
  }
 },
 "nbformat": 4,
 "nbformat_minor": 5
}
